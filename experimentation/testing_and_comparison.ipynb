{
 "cells": [
  {
   "cell_type": "markdown",
   "source": [
    "# Testing and Comparing Different Methods"
   ],
   "metadata": {
    "collapsed": false
   },
   "id": "67cc83ea56eb6cf3"
  },
  {
   "cell_type": "markdown",
   "source": [
    "First let's import the necessary libraries and functions and load the data."
   ],
   "metadata": {
    "collapsed": false
   },
   "id": "e623625e554296a5"
  },
  {
   "cell_type": "code",
   "execution_count": 1,
   "id": "initial_id",
   "metadata": {
    "collapsed": true,
    "ExecuteTime": {
     "end_time": "2024-12-07T01:13:07.846377300Z",
     "start_time": "2024-12-07T01:13:07.477969200Z"
    }
   },
   "outputs": [],
   "source": [
    "import numpy as np\n",
    "import source_code as sc"
   ]
  },
  {
   "cell_type": "markdown",
   "source": [
    "Now we will procede to test all of the matrixes with each one of the methods and compare the results."
   ],
   "metadata": {
    "collapsed": false
   },
   "id": "6b8d1175516fe05f"
  },
  {
   "cell_type": "markdown",
   "source": [
    "## Test for Matrix A\n",
    "\n",
    "$ A = \\begin{bmatrix} 2 & 1 \\\\ 3 & 4 \\end{bmatrix} $\n"
   ],
   "metadata": {
    "collapsed": false
   },
   "id": "8d97ea5ca7b1530e"
  },
  {
   "cell_type": "code",
   "execution_count": null,
   "outputs": [],
   "source": [],
   "metadata": {
    "collapsed": false
   },
   "id": "5e5d20f91f51f04e"
  }
 ],
 "metadata": {
  "kernelspec": {
   "display_name": "Python 3",
   "language": "python",
   "name": "python3"
  },
  "language_info": {
   "codemirror_mode": {
    "name": "ipython",
    "version": 2
   },
   "file_extension": ".py",
   "mimetype": "text/x-python",
   "name": "python",
   "nbconvert_exporter": "python",
   "pygments_lexer": "ipython2",
   "version": "2.7.6"
  }
 },
 "nbformat": 4,
 "nbformat_minor": 5
}
