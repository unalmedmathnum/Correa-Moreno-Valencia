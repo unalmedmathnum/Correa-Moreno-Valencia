{
 "cells": [
  {
   "cell_type": "markdown",
   "id": "67cc83ea56eb6cf3",
   "metadata": {
    "collapsed": false,
    "jupyter": {
     "outputs_hidden": false
    }
   },
   "source": [
    "# Testing and Comparing Different Methods"
   ]
  },
  {
   "cell_type": "markdown",
   "id": "e623625e554296a5",
   "metadata": {
    "collapsed": false,
    "jupyter": {
     "outputs_hidden": false
    }
   },
   "source": [
    "First let's import the necessary libraries and implementations for the methods."
   ]
  },
  {
   "cell_type": "code",
   "execution_count": 3,
   "id": "6ae0d485-ba92-47ab-9dc0-b9f93c83cfbf",
   "metadata": {},
   "outputs": [
    {
     "name": "stdout",
     "output_type": "stream",
     "text": [
      "Requirement already satisfied: numpy in /Library/Frameworks/Python.framework/Versions/3.13/lib/python3.13/site-packages (2.1.3)\n"
     ]
    }
   ],
   "source": [
    "!pip3 install numpy"
   ]
  },
  {
   "cell_type": "code",
   "execution_count": 4,
   "id": "23e04d0f-7664-4535-8de9-5b3a747d3d11",
   "metadata": {},
   "outputs": [
    {
     "name": "stdout",
     "output_type": "stream",
     "text": [
      "Requirement already satisfied: matplotlib in /Library/Frameworks/Python.framework/Versions/3.13/lib/python3.13/site-packages (3.9.3)\n",
      "Requirement already satisfied: contourpy>=1.0.1 in /Library/Frameworks/Python.framework/Versions/3.13/lib/python3.13/site-packages (from matplotlib) (1.3.1)\n",
      "Requirement already satisfied: cycler>=0.10 in /Library/Frameworks/Python.framework/Versions/3.13/lib/python3.13/site-packages (from matplotlib) (0.12.1)\n",
      "Requirement already satisfied: fonttools>=4.22.0 in /Library/Frameworks/Python.framework/Versions/3.13/lib/python3.13/site-packages (from matplotlib) (4.55.2)\n",
      "Requirement already satisfied: kiwisolver>=1.3.1 in /Library/Frameworks/Python.framework/Versions/3.13/lib/python3.13/site-packages (from matplotlib) (1.4.7)\n",
      "Requirement already satisfied: numpy>=1.23 in /Library/Frameworks/Python.framework/Versions/3.13/lib/python3.13/site-packages (from matplotlib) (2.1.3)\n",
      "Requirement already satisfied: packaging>=20.0 in /Users/danielcorrea/Library/Python/3.13/lib/python/site-packages (from matplotlib) (24.2)\n",
      "Requirement already satisfied: pillow>=8 in /Library/Frameworks/Python.framework/Versions/3.13/lib/python3.13/site-packages (from matplotlib) (11.0.0)\n",
      "Requirement already satisfied: pyparsing>=2.3.1 in /Library/Frameworks/Python.framework/Versions/3.13/lib/python3.13/site-packages (from matplotlib) (3.2.0)\n",
      "Requirement already satisfied: python-dateutil>=2.7 in /Users/danielcorrea/Library/Python/3.13/lib/python/site-packages (from matplotlib) (2.9.0.post0)\n",
      "Requirement already satisfied: six>=1.5 in /Users/danielcorrea/Library/Python/3.13/lib/python/site-packages (from python-dateutil>=2.7->matplotlib) (1.16.0)\n"
     ]
    }
   ],
   "source": [
    "!pip3 install matplotlib"
   ]
  },
  {
   "cell_type": "code",
   "execution_count": 5,
   "id": "initial_id",
   "metadata": {
    "ExecuteTime": {
     "end_time": "2024-12-07T01:43:32.473187100Z",
     "start_time": "2024-12-07T01:43:32.449190300Z"
    }
   },
   "outputs": [],
   "source": [
    "import numpy as np\n",
    "import matplotlib.pyplot as plt\n",
    "import source_code as sc\n",
    "from source_code import eigenvalues_characteristic_polynomial_method, eigenvalue_power_method, eigenvalues_QR_algorithm"
   ]
  },
  {
   "cell_type": "markdown",
   "id": "6b8d1175516fe05f",
   "metadata": {
    "collapsed": false,
    "jupyter": {
     "outputs_hidden": false
    }
   },
   "source": [
    "We will now proceed to test all the matrices using each of the methods and compare the results. Specifically, we will evaluate the number of iterations required by each method and compare the eigenvalues they produce against the results obtained from NumPy."
   ]
  },
  {
   "cell_type": "code",
   "execution_count": 7,
   "id": "3047ae2d-bffa-4304-a7cc-5074584f1f2c",
   "metadata": {},
   "outputs": [],
   "source": [
    "def compare_with_numpy(matrix, initial_guess,tol=1e-6):\n",
    "    \"\"\"\n",
    "    Compares eigenvalues and eigenvectors from different methods with NumPy's results and calculates the error.\n",
    "\n",
    "    Args:\n",
    "        matrix (list[list[float]] or np.ndarray): The matrix for which eigenvalues and eigenvectors are computed.\n",
    "        tol (float): Tolerance for comparison.\n",
    "\n",
    "    Returns:\n",
    "        dict: A dictionary containing the eigenvalues and eigenvectors from each method,\n",
    "              NumPy's results, and the errors for each method.\n",
    "    \"\"\"\n",
    "    results = {}\n",
    "    \n",
    "    # Convert the matrix to a numpy array if it's not already\n",
    "    matrix = np.array(matrix, dtype=float)\n",
    "    np_eigenvalues_M = np.linalg.eigvals(matrix)\n",
    "    real_eigenvalues_M = sorted(np_eigenvalues_M[np.isreal(np_eigenvalues_M)].real)\n",
    "    np_eigenvalues, np_eigenvectors = np.linalg.eig(matrix)\n",
    "    real_np_eigenvalues = sorted(np_eigenvalues[np.isreal(np_eigenvalues)].real)\n",
    "    np_eigenvectors = np.array([np_eigenvectors[:, i] for i in range(len(np_eigenvalues))])\n",
    "    results[\"numpy\"] = {\"eigenvalues\": real_np_eigenvalues, \"eigenvectors\": np_eigenvectors}\n",
    "\n",
    "    # Characteristic Polynomial Method\n",
    "    eigenvalues_poly = eigenvalues_characteristic_polynomial_method(matrix, show=False)\n",
    "    poly_error = [abs(a - b) for a, b in zip(eigenvalues_poly, real_np_eigenvalues)]\n",
    "    results[\"characteristic_polynomial\"] = {\n",
    "        \"eigenvalues\": eigenvalues_poly,\n",
    "        \"errors\": poly_error,\n",
    "        \"within_tolerance\": all(e <= tol for e in poly_error)\n",
    "    }\n",
    "\n",
    "    # QR Algorithm\n",
    "    eigenvalues_M, qr_iterations = eigenvalues_QR_algorithm(matrix)\n",
    "    qr_error = []\n",
    "    for my_eigenvalue, np_eigenvalue in zip(eigenvalues_M, real_np_eigenvalues):\n",
    "        qr_error.append(abs(my_eigenvalue - np_eigenvalue))\n",
    "    \n",
    "    results[\"qr_algorithm\"] = {\n",
    "        \"eigenvalues\": eigenvalues_M,\n",
    "        \"errors\": qr_error,\n",
    "        \"within_tolerance\": all(e <= tol for e in qr_error),\n",
    "        \"iterations\": qr_iterations\n",
    "    }\n",
    "\n",
    "    # Power Method \n",
    "    dominant_eigenvalue, dominant_eigenvector, power_iterations = eigenvalue_power_method(matrix, initial_guess)\n",
    "    dominant_error = abs(dominant_eigenvalue - max(real_np_eigenvalues))\n",
    "    numpy_dominant_eigenvector = np_eigenvectors[np.argmax(real_np_eigenvalues)]\n",
    "    results[\"power_method\"] = {\n",
    "        \"dominant_eigenvalue\": dominant_eigenvalue,\n",
    "        \"eigenvector\": dominant_eigenvector,\n",
    "        \"error\": dominant_error,\n",
    "        \"within_tolerance\": dominant_error <= tol,\n",
    "        \"iterations\": power_iterations\n",
    "    }\n",
    "\n",
    "    # Results\n",
    "    print(\"Eigenvalue and Eigenvector Comparison\\n\")\n",
    "    print(\"NumPy Results:\")\n",
    "    print(f\"Eigenvalues: {real_np_eigenvalues}\")\n",
    "    print(\"Eigenvectors:\")\n",
    "    for vec in np_eigenvectors:\n",
    "        print(vec)\n",
    "    print(\"\\n\")\n",
    "\n",
    "    print(\"Characteristic Polynomial Method:\")\n",
    "    print(f\"  Eigenvalues: {eigenvalues_poly}\")\n",
    "    print(f\"  Errors: {poly_error}\")\n",
    "    print(f\"  Within Tolerance: {results['characteristic_polynomial']['within_tolerance']}\\n\")\n",
    "\n",
    "    print(\"Power Method:\")\n",
    "    print(f\"  Dominant Eigenvalue: {dominant_eigenvalue}\")\n",
    "    print(f\"  Error: {dominant_error}\")\n",
    "    print(f\"  Eigenvector: {dominant_eigenvector}\")\n",
    "    print(f\"  Iterations: {power_iterations}\")\n",
    "    print(f\"  Within Tolerance: {results['power_method']['within_tolerance']}\\n\")\n",
    "    \n",
    "    print(\"QR Algorithm:\")\n",
    "    print(f\"  Eigenvalues: {eigenvalues_M}\")\n",
    "    print(f\"  Errors: {qr_error}\")\n",
    "    print(f\"  Iterations: {qr_iterations}\")\n",
    "    print(f\"  Within Tolerance: {results['qr_algorithm']['within_tolerance']}\\n\")\n",
    "    \n",
    "    return results"
   ]
  },
  {
   "cell_type": "markdown",
   "id": "8d97ea5ca7b1530e",
   "metadata": {
    "collapsed": false,
    "jupyter": {
     "outputs_hidden": false
    }
   },
   "source": [
    "## Test for Matrix A\n",
    "\n",
    "$ A = \\begin{bmatrix} 2 & 1 \\\\ 3 & 4 \\end{bmatrix} $\n"
   ]
  },
  {
   "cell_type": "code",
   "execution_count": 9,
   "id": "5e5d20f91f51f04e",
   "metadata": {
    "ExecuteTime": {
     "end_time": "2024-12-07T01:43:39.115124300Z",
     "start_time": "2024-12-07T01:43:39.093129600Z"
    },
    "collapsed": false,
    "jupyter": {
     "outputs_hidden": false
    }
   },
   "outputs": [
    {
     "name": "stdout",
     "output_type": "stream",
     "text": [
      "Eigenvalue and Eigenvector Comparison\n",
      "\n",
      "NumPy Results:\n",
      "Eigenvalues: [1.0, 5.0]\n",
      "Eigenvectors:\n",
      "[-0.70710678  0.70710678]\n",
      "[-0.31622777 -0.9486833 ]\n",
      "\n",
      "\n",
      "Characteristic Polynomial Method:\n",
      "  Eigenvalues: [1.0, 5.0]\n",
      "  Errors: [0.0, 0.0]\n",
      "  Within Tolerance: True\n",
      "\n",
      "Power Method:\n",
      "  Dominant Eigenvalue: 5.000000003276801\n",
      "  Error: 3.276801052720657e-09\n",
      "  Eigenvector: [0.31622777 0.9486833 ]\n",
      "  Iterations: 12\n",
      "  Within Tolerance: True\n",
      "\n",
      "QR Algorithm:\n",
      "  Eigenvalues: [0.9999999999999998, 4.999999999999999]\n",
      "  Errors: [2.220446049250313e-16, 8.881784197001252e-16]\n",
      "  Iterations: 465\n",
      "  Within Tolerance: True\n",
      "\n"
     ]
    }
   ],
   "source": [
    "tol = 1e-6\n",
    "A = np.array([[2, 1], [3, 4]])\n",
    "x0 = [1] * 2 # Initial aproximation for Power Method\n",
    "results_A = compare_with_numpy(A, x0, tol)"
   ]
  },
  {
   "cell_type": "markdown",
   "id": "2e6155b4-3b36-4c00-9099-f0699befa3f2",
   "metadata": {
    "collapsed": false,
    "jupyter": {
     "outputs_hidden": false
    }
   },
   "source": [
    "## Test for Matrix B\n",
    "\n",
    "$ B = \\begin{bmatrix} 3 & 2 \\\\ 3 & 4 \\end{bmatrix} $"
   ]
  },
  {
   "cell_type": "code",
   "execution_count": 11,
   "id": "f9934079-80c1-47d0-9ede-4683c90bd38d",
   "metadata": {
    "collapsed": false,
    "jupyter": {
     "outputs_hidden": false
    }
   },
   "outputs": [
    {
     "name": "stdout",
     "output_type": "stream",
     "text": [
      "Eigenvalue and Eigenvector Comparison\n",
      "\n",
      "NumPy Results:\n",
      "Eigenvalues: [1.0, 6.0]\n",
      "Eigenvectors:\n",
      "[-0.70710678  0.70710678]\n",
      "[-0.5547002  -0.83205029]\n",
      "\n",
      "\n",
      "Characteristic Polynomial Method:\n",
      "  Eigenvalues: [1.0, 6.0]\n",
      "  Errors: [0.0, 0.0]\n",
      "  Within Tolerance: True\n",
      "\n",
      "Power Method:\n",
      "  Dominant Eigenvalue: 6.000000000530068\n",
      "  Error: 5.300684335907135e-10\n",
      "  Eigenvector: [0.5547002  0.83205029]\n",
      "  Iterations: 11\n",
      "  Within Tolerance: True\n",
      "\n",
      "QR Algorithm:\n",
      "  Eigenvalues: [1.0000000000000002, 5.999999999999998]\n",
      "  Errors: [2.220446049250313e-16, 1.7763568394002505e-15]\n",
      "  Iterations: 418\n",
      "  Within Tolerance: True\n",
      "\n"
     ]
    }
   ],
   "source": [
    "tol = 1e-6\n",
    "B = np.array([[3, 2], [3, 4]])\n",
    "x0 = [1] * 2\n",
    "results_B = compare_with_numpy(B, x0, tol)"
   ]
  },
  {
   "cell_type": "markdown",
   "id": "5595b2d9-e1ff-4b7a-a009-bdeeb86968d0",
   "metadata": {},
   "source": [
    "## Test for Matrix C\n",
    "\n",
    "$ C = \\begin{bmatrix} 2 & 3 \\\\ 1 & 4 \\end{bmatrix} $"
   ]
  },
  {
   "cell_type": "code",
   "execution_count": 13,
   "id": "b19c89cb-4d30-42c4-a26f-05bfbbe2cf38",
   "metadata": {},
   "outputs": [
    {
     "name": "stdout",
     "output_type": "stream",
     "text": [
      "Eigenvalue and Eigenvector Comparison\n",
      "\n",
      "NumPy Results:\n",
      "Eigenvalues: [1.0, 5.0]\n",
      "Eigenvectors:\n",
      "[-0.9486833   0.31622777]\n",
      "[-0.70710678 -0.70710678]\n",
      "\n",
      "\n",
      "Characteristic Polynomial Method:\n",
      "  Eigenvalues: [1.0, 5.0]\n",
      "  Errors: [0.0, 0.0]\n",
      "  Within Tolerance: True\n",
      "\n",
      "Power Method:\n",
      "  Dominant Eigenvalue: 4.999999999999999\n",
      "  Error: 8.881784197001252e-16\n",
      "  Eigenvector: [0.70710678 0.70710678]\n",
      "  Iterations: 1\n",
      "  Within Tolerance: True\n",
      "\n",
      "QR Algorithm:\n",
      "  Eigenvalues: [1.0000000000000002, 5.0]\n",
      "  Errors: [2.220446049250313e-16, 0.0]\n",
      "  Iterations: 465\n",
      "  Within Tolerance: True\n",
      "\n"
     ]
    }
   ],
   "source": [
    "tol = 1e-6\n",
    "C = np.array([[2, 3], [1, 4]])\n",
    "x0 = [1] * 2\n",
    "results_C = compare_with_numpy(C, x0, tol)"
   ]
  },
  {
   "cell_type": "markdown",
   "id": "63e6d0fa-bf95-473c-81bb-10359fb9c256",
   "metadata": {},
   "source": [
    "## Test for Matrix D\n",
    "\n",
    "$ D = \\begin{bmatrix} 1 & 1 & 2 \\\\ 2 & 1 & 1 \\\\ 1 & 1 & 3 \\end{bmatrix} $\n"
   ]
  },
  {
   "cell_type": "code",
   "execution_count": 15,
   "id": "de762d51-b315-4faf-a990-7b25415eb5ca",
   "metadata": {},
   "outputs": [
    {
     "name": "stdout",
     "output_type": "stream",
     "text": [
      "Eigenvalue and Eigenvector Comparison\n",
      "\n",
      "NumPy Results:\n",
      "Eigenvalues: [-0.28514248182978513, 0.778123837736809, 4.507018644092973]\n",
      "Eigenvectors:\n",
      "[-0.53231709 -0.49863934 -0.6841033 ]\n",
      "[-0.49762292  0.86033768 -0.11041066]\n",
      "[-0.1297142  -0.88103974  0.45491011]\n",
      "\n",
      "\n",
      "Characteristic Polynomial Method:\n",
      "  Eigenvalues: [-0.2851424818297853, 0.7781238377368097, 4.507018644092973]\n",
      "  Errors: [1.6653345369377348e-16, 6.661338147750939e-16, 0.0]\n",
      "  Within Tolerance: True\n",
      "\n",
      "Power Method:\n",
      "  Dominant Eigenvalue: 4.507018643489628\n",
      "  Error: 6.033449295728133e-10\n",
      "  Eigenvector: [0.53231709 0.49863934 0.6841033 ]\n",
      "  Iterations: 11\n",
      "  Within Tolerance: True\n",
      "\n",
      "QR Algorithm:\n",
      "  Eigenvalues: [-0.28514248182978574, 0.7781238377368092, 4.507018644092973]\n",
      "  Errors: [6.106226635438361e-16, 1.1102230246251565e-16, 0.0]\n",
      "  Iterations: 1000\n",
      "  Within Tolerance: True\n",
      "\n"
     ]
    }
   ],
   "source": [
    "tol = 1e-6\n",
    "D = np.array([[1, 1, 2], [2, 1, 1], [1, 1, 3]])\n",
    "x0 = [1] * 3\n",
    "results_D = compare_with_numpy(D, x0, tol)"
   ]
  },
  {
   "cell_type": "markdown",
   "id": "e8cbfbc1-30f1-4001-93cf-9c80516d44f9",
   "metadata": {},
   "source": [
    "## Test for Matrix E\n",
    "\n",
    "$ E = \\begin{bmatrix} 1 & 1 & 2 \\\\ 2 & 1 & 3 \\\\ 1 & 1 & 1 \\end{bmatrix} $\n"
   ]
  },
  {
   "cell_type": "code",
   "execution_count": 17,
   "id": "5e38821e-ba55-4e84-8f45-daa30ce98cb1",
   "metadata": {},
   "outputs": [
    {
     "name": "stdout",
     "output_type": "stream",
     "text": [
      "Eigenvalue and Eigenvector Comparison\n",
      "\n",
      "NumPy Results:\n",
      "Eigenvalues: [-0.6920214716300962, -0.3568958678922096, 4.048917339522307]\n",
      "Eigenvectors:\n",
      "[-0.51769363 -0.74808896 -0.41515805]\n",
      "[-0.85467668  0.21108771  0.47430977]\n",
      "[-0.26822309 -0.75154439  0.6026918 ]\n",
      "\n",
      "\n",
      "Characteristic Polynomial Method:\n",
      "  Eigenvalues: [-0.6920214716300962, -0.35689586789220934, 4.048917339522307]\n",
      "  Errors: [0.0, 2.7755575615628914e-16, 0.0]\n",
      "  Within Tolerance: True\n",
      "\n",
      "Power Method:\n",
      "  Dominant Eigenvalue: 4.048917337466517\n",
      "  Error: 2.055789316557366e-09\n",
      "  Eigenvector: [0.51769363 0.74808897 0.41515805]\n",
      "  Iterations: 11\n",
      "  Within Tolerance: True\n",
      "\n",
      "QR Algorithm:\n",
      "  Eigenvalues: [-0.692021471630096, -0.35689586789220923, 4.048917339522307]\n",
      "  Errors: [2.220446049250313e-16, 3.885780586188048e-16, 0.0]\n",
      "  Iterations: 1000\n",
      "  Within Tolerance: True\n",
      "\n"
     ]
    }
   ],
   "source": [
    "tol = 1e-6\n",
    "E = np.array([[1, 1, 2], [2, 1, 3], [1, 1, 1]])\n",
    "x0 = [1] * 3\n",
    "results_E = compare_with_numpy(E, x0, tol)"
   ]
  },
  {
   "cell_type": "markdown",
   "id": "ecfc02a1-f8d8-4733-b39e-773ead38305a",
   "metadata": {},
   "source": [
    "## Test for Matrix F\n",
    "\n",
    "$ F = \\begin{bmatrix} 2 & 1 & 2 \\\\ 1 & 1 & 3 \\\\ 1 & 1 & 1 \\end{bmatrix} $\n"
   ]
  },
  {
   "cell_type": "code",
   "execution_count": 19,
   "id": "e9f981c9-f93b-4659-98c0-4bdc546b127b",
   "metadata": {},
   "outputs": [
    {
     "name": "stdout",
     "output_type": "stream",
     "text": [
      "Eigenvalue and Eigenvector Comparison\n",
      "\n",
      "NumPy Results:\n",
      "Eigenvalues: [-0.7615571818318908, 0.6366717620673159, 4.12488541976457]\n",
      "Eigenvectors:\n",
      "[-0.67550236 -0.61159354 -0.41188579]\n",
      "[-0.72653358  0.66793428  0.16128473]\n",
      "[-0.07072589 -0.84969749  0.52250553]\n",
      "\n",
      "\n",
      "Characteristic Polynomial Method:\n",
      "  Eigenvalues: [-0.7615571818318905, 0.6366717620673163, 4.124885419764569]\n",
      "  Errors: [3.3306690738754696e-16, 4.440892098500626e-16, 8.881784197001252e-16]\n",
      "  Within Tolerance: True\n",
      "\n",
      "Power Method:\n",
      "  Dominant Eigenvalue: 4.12488541678222\n",
      "  Error: 2.9823494784864124e-09\n",
      "  Eigenvector: [0.67550236 0.61159354 0.41188579]\n",
      "  Iterations: 11\n",
      "  Within Tolerance: True\n",
      "\n",
      "QR Algorithm:\n",
      "  Eigenvalues: [-0.7615571818318913, 0.6366717620673171, 4.124885419764577]\n",
      "  Errors: [4.440892098500626e-16, 1.2212453270876722e-15, 7.105427357601002e-15]\n",
      "  Iterations: 1000\n",
      "  Within Tolerance: True\n",
      "\n"
     ]
    }
   ],
   "source": [
    "tol = 1e-6\n",
    "F = np.array([[2, 1, 2], [1, 1, 3], [1, 1, 1]])\n",
    "x0 = [1] * 3\n",
    "results_F = compare_with_numpy(F, x0, tol)"
   ]
  },
  {
   "cell_type": "markdown",
   "id": "f585d98e-a1ca-402a-9d28-cd0e7920bf0f",
   "metadata": {},
   "source": [
    "## Test for Matrix G\n",
    "\n",
    "$ G = \\begin{bmatrix} 1 & 1 & 1 & 2 \\\\ 2 & 1 & 1 & 1 \\\\ 3 & 2 & 1 & 2 \\\\ 2 & 1 & 1 & 4 \\end{bmatrix} $\n"
   ]
  },
  {
   "cell_type": "code",
   "execution_count": 21,
   "id": "d74e540d-5b1b-4cef-b4bd-5b8667c22447",
   "metadata": {},
   "outputs": [
    {
     "name": "stdout",
     "output_type": "stream",
     "text": [
      "Eigenvalue and Eigenvector Comparison\n",
      "\n",
      "NumPy Results:\n",
      "Eigenvalues: [-0.7356415384387965, -0.40745627013812413, 1.5085633449433244, 6.634534463633605]\n",
      "Eigenvectors:\n",
      "[0.38941594 0.35142164 0.55977506 0.6414904 ]\n",
      "[-0.10866639 -0.54839569 -0.61625428  0.55469311]\n",
      "[ 0.65148076 -0.31969406 -0.68513144 -0.06295578]\n",
      "[ 0.38913343 -0.80095815  0.44482357 -0.09577685]\n",
      "\n",
      "\n",
      "Characteristic Polynomial Method:\n",
      "  Eigenvalues: [-0.7356415384387962, -0.4074562701381244, 1.508563344943325, 6.634534463633596]\n",
      "  Errors: [3.3306690738754696e-16, 2.7755575615628914e-16, 4.440892098500626e-16, 8.881784197001252e-15]\n",
      "  Within Tolerance: True\n",
      "\n",
      "Power Method:\n",
      "  Dominant Eigenvalue: 6.634534462450012\n",
      "  Error: 1.1835927793413248e-09\n",
      "  Eigenvector: [0.38941594 0.35142164 0.55977506 0.6414904 ]\n",
      "  Iterations: 13\n",
      "  Within Tolerance: True\n",
      "\n",
      "QR Algorithm:\n",
      "  Eigenvalues: [-0.7356415384387968, -0.4074562701381242, 1.5085633449433258, 6.634534463633592]\n",
      "  Errors: [2.220446049250313e-16, 5.551115123125783e-17, 1.3322676295501878e-15, 1.2434497875801753e-14]\n",
      "  Iterations: 1000\n",
      "  Within Tolerance: True\n",
      "\n"
     ]
    }
   ],
   "source": [
    "tol = 1e-6\n",
    "G = np.array([[1, 1, 1, 2], [2, 1, 1, 1], [3, 2, 1, 2], [2, 1, 1, 4]])\n",
    "x0 = [1] * 4\n",
    "results_G = compare_with_numpy(G, x0, tol)"
   ]
  },
  {
   "cell_type": "markdown",
   "id": "b21fe52c-4ee3-4af3-a4c5-28a52960ea9d",
   "metadata": {},
   "source": [
    "## Test for Matrix H\n",
    "\n",
    "$ H = \\begin{bmatrix} 1 & 2 & 1 & 2 \\\\ 2 & 1 & 1 & 1 \\\\ 3 & 2 & 1 & 2 \\\\ 2 & 1 & 1 & 4 \\end{bmatrix} $"
   ]
  },
  {
   "cell_type": "code",
   "execution_count": 23,
   "id": "4c91b872-6580-4a69-acbc-af44075a6651",
   "metadata": {},
   "outputs": [
    {
     "name": "stdout",
     "output_type": "stream",
     "text": [
      "Eigenvalue and Eigenvector Comparison\n",
      "\n",
      "NumPy Results:\n",
      "Eigenvalues: [-1.0879349236625622, -0.46744323473112087, 1.7281159082896422, 6.827262250104038]\n",
      "Eigenvectors:\n",
      "[-0.42853133 -0.34899468 -0.55406667 -0.62255421]\n",
      "[-0.24289613 -0.4838935  -0.52400705  0.65746876]\n",
      "[-0.71363438  0.35215497  0.598272    0.09372011]\n",
      "[-0.28400892 -0.22663858  0.93115005 -0.03055296]\n",
      "\n",
      "\n",
      "Characteristic Polynomial Method:\n",
      "  Eigenvalues: [-1.0879349236625615, -0.46744323473112087, 1.7281159082896405, 6.8272622501040425]\n",
      "  Errors: [6.661338147750939e-16, 0.0, 1.7763568394002505e-15, 4.440892098500626e-15]\n",
      "  Within Tolerance: True\n",
      "\n",
      "Power Method:\n",
      "  Dominant Eigenvalue: 6.827262249416448\n",
      "  Error: 6.875904290382095e-10\n",
      "  Eigenvector: [0.42853133 0.34899468 0.55406667 0.62255421]\n",
      "  Iterations: 14\n",
      "  Within Tolerance: True\n",
      "\n",
      "QR Algorithm:\n",
      "  Eigenvalues: [-1.0879349236625606, -0.4674432347311211, 1.7281159082896402, 6.827262250104039]\n",
      "  Errors: [1.5543122344752192e-15, 2.220446049250313e-16, 1.9984014443252818e-15, 8.881784197001252e-16]\n",
      "  Iterations: 1000\n",
      "  Within Tolerance: True\n",
      "\n"
     ]
    }
   ],
   "source": [
    "tol = 1e-6\n",
    "H = np.array([[1, 2, 1, 2], [2, 1, 1, 1], [3, 2, 1, 2], [2, 1, 1, 4]])\n",
    "x0 = [1] * 4\n",
    "results_H = compare_with_numpy(H, x0, tol)"
   ]
  },
  {
   "cell_type": "markdown",
   "id": "201dd2ba-e3b8-4de5-a0df-9aa541cc2c52",
   "metadata": {},
   "source": [
    "## Comparaciones"
   ]
  },
  {
   "cell_type": "code",
   "execution_count": 25,
   "id": "5fb55ae7-2154-49a3-bce6-8700037e1f5b",
   "metadata": {},
   "outputs": [],
   "source": [
    "def how_many_iterations_take_pw_method(matrix, tol):\n",
    "    x0 = [1] * len(matrix)\n",
    "    dominant_eigenvalue, dominant_eigenvector, power_iterations = eigenvalue_power_method(matrix, x0, tol=tol)\n",
    "    return power_iterations\n",
    "\n",
    "def how_many_iterations_take_qr_method(matrix, tol):\n",
    "    eigenvalues_M, qr_iterations = eigenvalues_QR_algorithm(matrix, tol=tol)\n",
    "    return qr_iterations\n",
    "\n",
    "def graph_comparison(matrix):\n",
    "    error_thresholds = np.logspace(-3, -7, num=5)\n",
    "    pw_iterations = [how_many_iterations_take_pw_method(matrix, tol) for tol in error_thresholds]\n",
    "    qr_iterations = [how_many_iterations_take_qr_method(matrix, tol) for tol in error_thresholds]\n",
    "\n",
    "    # Graph\n",
    "    plt.plot(error_thresholds, pw_iterations, color=\"blue\", label=\"Power Method\")\n",
    "    plt.plot(error_thresholds, qr_iterations, color=\"red\", label=\"QR Method\")\n",
    "    plt.xscale('log')  # Log scale for error thresholds\n",
    "    plt.xlabel('Error Threshold')\n",
    "    plt.ylabel('Number of Iterations')\n",
    "    plt.title('Iterations Needed for Different Error Thresholds')\n",
    "    plt.legend()\n",
    "    plt.grid(True)\n",
    "    plt.show()"
   ]
  },
  {
   "cell_type": "code",
   "execution_count": 26,
   "id": "b009c8a9-c34d-4f24-a0fc-ff5c00bd37d8",
   "metadata": {},
   "outputs": [
    {
     "data": {
      "image/png": "[encoded data removed]",
      "text/plain": [
       "<Figure size 640x480 with 1 Axes>"
      ]
     },
     "metadata": {},
     "output_type": "display_data"
    }
   ],
   "source": [
    "graph_comparison(D)"
   ]
  },
  {
   "cell_type": "markdown",
   "id": "c6bd7a1a-e7c5-4ab4-a4b3-09ba1b4af2ac",
   "metadata": {},
   "source": [
    "QR Method takes more iterations to stop, but if we remember the data in the test for each matrix, the accuracy of the QR method is a lot better than the power method, although both methods use the norm of the difference between vector/matrix in the current and previous iterations, it doesn't feel like a fair battle\n",
    "\n",
    "Also Power method gives us only the information of the dominant eigenvalue, this is a disadvantage over the QR method that gives the list of all the eigenvalues\n",
    "\n",
    "And to compare with the characteristic method equation, remember the complexity relies on calculating the determinant of a matrix, solving a system of linear equations, and find roots of a polynomial equation, because it doesnt take iterations, a way to compare them can be in how many ms it takes"
   ]
  },
  {
   "cell_type": "code",
   "execution_count": 29,
   "id": "d30c9784-81e3-485e-b8ba-3a2f9221076e",
   "metadata": {},
   "outputs": [
    {
     "name": "stdout",
     "output_type": "stream",
     "text": [
      "3.3737499979906715 ms\n",
      "2.185416000429541 ms\n",
      "1.8464579989085905 ms\n",
      "2.0472500000323635 ms\n",
      "2.0408330019563437 ms\n",
      "2.216832999692997 ms\n",
      "3.977709002356278 ms\n",
      "2.9973330019856803 ms\n"
     ]
    }
   ],
   "source": [
    "import timeit\n",
    "\n",
    "matrices = [A, B, C, D, E, F, G, H]\n",
    "for M in matrices:\n",
    "    execution_time = timeit.timeit(lambda : eigenvalues_characteristic_polynomial_method(M), number=10)\n",
    "    print(execution_time * 1000, \"ms\")"
   ]
  },
  {
   "cell_type": "code",
   "execution_count": 31,
   "id": "28949c69-865c-4584-8667-453a2b938cb2",
   "metadata": {},
   "outputs": [],
   "source": [
    "def graph_comparison_time(matrix):\n",
    "    error_thresholds = np.logspace(-3, -7, num=5)\n",
    "    pw_iterations = [1000 * timeit.timeit(lambda : how_many_iterations_take_pw_method(matrix, tol), number=5) for tol in error_thresholds]\n",
    "    qr_iterations = [1000 * timeit.timeit(lambda : how_many_iterations_take_qr_method(matrix, tol), number=5) for tol in error_thresholds]\n",
    "\n",
    "    # Graph\n",
    "    plt.plot(error_thresholds, pw_iterations, color=\"blue\", label=\"Power Method\")\n",
    "    plt.plot(error_thresholds, qr_iterations, color=\"red\", label=\"QR Method\")\n",
    "    plt.xscale('log')  # Log scale for error thresholds\n",
    "    plt.xlabel('Error Threshold')\n",
    "    plt.ylabel('Number of Iterations')\n",
    "    plt.title('Time Needed for Different Error Thresholds')\n",
    "    plt.legend()\n",
    "    plt.grid(True)\n",
    "    plt.show()"
   ]
  },
  {
   "cell_type": "code",
   "execution_count": 33,
   "id": "0a88b8c6-6033-4879-b022-b4d780a066c0",
   "metadata": {},
   "outputs": [
    {
     "data": {
      "image/png": "[encoded data removed]",
      "text/plain": [
       "<Figure size 640x480 with 1 Axes>"
      ]
     },
     "metadata": {},
     "output_type": "display_data"
    }
   ],
   "source": [
    "graph_comparison_time(A)"
   ]
  },
  {
   "cell_type": "markdown",
   "id": "5bd1052b-1888-40ef-a789-9cabe4d7f78c",
   "metadata": {},
   "source": [
    "Comparing the methods can be challenging, the Power Method provides limited information by focusing on the dominant eigenvalue, while the QR Method finds all eigenvalues but requires more iterations and time, and again choose a fair criteria of stop can be difficult, and the characteristic polynomial method doesnt takes iterations, to summarize, I made the following table\n",
    "\n",
    "| **Criteria**                   | **Characteristic Polynomial Method**       | **Power Method**                        | **QR Method**                             |\n",
    "|--------------------------------|--------------------------------------------|-----------------------------------------|-------------------------------------------|\n",
    "| **Type of Method**             | Direct (Algebraic)                        | Iterative                               | Iterative                                 |\n",
    "| **Information Provided**       | All eigenvalues                           | Dominant eigenvalue and eigenvector     | All eigenvalues |\n",
    "| **Iterations**                 | No iterations ( ignoring how calculate roots)                             | Yes, iterative                          | Yes, iterative                            |\n",
    "| **Stopping Criteria**          | Not applicable                            | Norm difference between vectors      | Norm difference between matrices          |\n",
    "| **Accuracy**                   | Limited for large matrices (numerical instability) | Limited (only dominant eigenvalue)      | High accuracy for all eigenvalues         |\n",
    "| **Computational Efficiency**   | Efficient for small matrices              | Fast for dominant eigenvalue            | Slower due to QR decompositions           |\n",
    "| **Suitability**                | Small matrices                            | Large matrices, dominant eigenvalue     | General-purpose, suitable for all eigenvalues |\n",
    "| **Limitations**                | Impractical for large matrices            | Doesn't find all eigenvalues            | Computationally expensive                 |"
   ]
  },
  {
   "cell_type": "code",
   "execution_count": null,
   "id": "0e15f2cd-b419-4cc2-bcb0-47b1af525329",
   "metadata": {},
   "outputs": [],
   "source": []
  }
 ],
 "metadata": {
  "kernelspec": {
   "display_name": "Python 3 (ipykernel)",
   "language": "python",
   "name": "python3"
  },
  "language_info": {
   "codemirror_mode": {
    "name": "ipython",
    "version": 3
   },
   "file_extension": ".py",
   "mimetype": "text/x-python",
   "name": "python",
   "nbconvert_exporter": "python",
   "pygments_lexer": "ipython3",
   "version": "3.12.7"
  }
 },
 "nbformat": 4,
 "nbformat_minor": 5
}
