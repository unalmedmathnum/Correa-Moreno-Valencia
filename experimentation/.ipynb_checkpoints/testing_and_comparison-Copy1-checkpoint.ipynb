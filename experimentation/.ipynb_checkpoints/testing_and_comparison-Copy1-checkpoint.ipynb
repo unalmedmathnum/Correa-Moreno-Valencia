{
 "cells": [
  {
   "cell_type": "markdown",
   "id": "67cc83ea56eb6cf3",
   "metadata": {
    "collapsed": false,
    "jupyter": {
     "outputs_hidden": false
    }
   },
   "source": [
    "# Testing and Comparing Different Methods"
   ]
  },
  {
   "cell_type": "markdown",
   "id": "e623625e554296a5",
   "metadata": {
    "collapsed": false,
    "jupyter": {
     "outputs_hidden": false
    }
   },
   "source": [
    "First let's import the necessary libraries and implementations for the methods."
   ]
  },
  {
   "cell_type": "code",
   "execution_count": 2,
   "id": "initial_id",
   "metadata": {
    "ExecuteTime": {
     "end_time": "2024-12-07T01:43:32.473187100Z",
     "start_time": "2024-12-07T01:43:32.449190300Z"
    }
   },
   "outputs": [],
   "source": [
    "import numpy as np\n",
    "from source_code import eigenvalues_characteristic_polynomial_method, eigenvalue_power_method, eigenvalues_QR_algorithm"
   ]
  },
  {
   "cell_type": "markdown",
   "id": "6b8d1175516fe05f",
   "metadata": {
    "collapsed": false,
    "jupyter": {
     "outputs_hidden": false
    }
   },
   "source": [
    "We will now proceed to test all the matrices using each of the methods and compare the results. Specifically, we will evaluate the number of iterations required by each method and compare the eigenvalues they produce against the results obtained from NumPy."
   ]
  },
  {
   "cell_type": "code",
   "execution_count": 41,
   "id": "3047ae2d-bffa-4304-a7cc-5074584f1f2c",
   "metadata": {},
   "outputs": [
    {
     "ename": "TypeError",
     "evalue": "'numpy.float64' object is not iterable",
     "output_type": "error",
     "traceback": [
      "\u001b[1;31m---------------------------------------------------------------------------\u001b[0m",
      "\u001b[1;31mTypeError\u001b[0m                                 Traceback (most recent call last)",
      "Cell \u001b[1;32mIn[41], line 94\u001b[0m\n\u001b[0;32m     92\u001b[0m \u001b[38;5;66;03m# Example Usage\u001b[39;00m\n\u001b[0;32m     93\u001b[0m A \u001b[38;5;241m=\u001b[39m [[\u001b[38;5;241m2\u001b[39m, \u001b[38;5;241m1\u001b[39m], [\u001b[38;5;241m3\u001b[39m, \u001b[38;5;241m4\u001b[39m]]  \u001b[38;5;66;03m# Replace with your test matrix\u001b[39;00m\n\u001b[1;32m---> 94\u001b[0m comparison_results \u001b[38;5;241m=\u001b[39m \u001b[43mcompare_with_numpy\u001b[49m\u001b[43m(\u001b[49m\u001b[43mA\u001b[49m\u001b[43m,\u001b[49m\u001b[43m \u001b[49m\u001b[43mtol\u001b[49m\u001b[38;5;241;43m=\u001b[39;49m\u001b[38;5;241;43m1e-6\u001b[39;49m\u001b[43m)\u001b[49m\n",
      "Cell \u001b[1;32mIn[41], line 36\u001b[0m, in \u001b[0;36mcompare_with_numpy\u001b[1;34m(matrix, tol)\u001b[0m\n\u001b[0;32m     34\u001b[0m qr_eigenvalues, qr_iterations \u001b[38;5;241m=\u001b[39m eigenvalues_QR_algorithm(matrix)\n\u001b[0;32m     35\u001b[0m qr_error \u001b[38;5;241m=\u001b[39m []\n\u001b[1;32m---> 36\u001b[0m \u001b[38;5;28;01mfor\u001b[39;00m my_eigenvalue, np_eigenvalue \u001b[38;5;129;01min\u001b[39;00m \u001b[38;5;28;43mzip\u001b[39;49m\u001b[43m(\u001b[49m\u001b[43mqr_eigenvalues\u001b[49m\u001b[43m,\u001b[49m\u001b[43m \u001b[49m\u001b[43mreal_np_eigenvalues\u001b[49m\u001b[43m)\u001b[49m:\n\u001b[0;32m     37\u001b[0m     qr_error\u001b[38;5;241m.\u001b[39mappend(\u001b[38;5;28mabs\u001b[39m(my_eigenvalue \u001b[38;5;241m-\u001b[39m np_eigenvalue))\n\u001b[0;32m     38\u001b[0m results[\u001b[38;5;124m\"\u001b[39m\u001b[38;5;124mqr_algorithm\u001b[39m\u001b[38;5;124m\"\u001b[39m] \u001b[38;5;241m=\u001b[39m {\n\u001b[0;32m     39\u001b[0m     \u001b[38;5;124m\"\u001b[39m\u001b[38;5;124meigenvalues\u001b[39m\u001b[38;5;124m\"\u001b[39m: qr_eigenvalues,\n\u001b[0;32m     40\u001b[0m     \u001b[38;5;124m\"\u001b[39m\u001b[38;5;124merrors\u001b[39m\u001b[38;5;124m\"\u001b[39m: qr_error,\n\u001b[0;32m     41\u001b[0m     \u001b[38;5;124m\"\u001b[39m\u001b[38;5;124mwithin_tolerance\u001b[39m\u001b[38;5;124m\"\u001b[39m: \u001b[38;5;28mall\u001b[39m(e \u001b[38;5;241m<\u001b[39m\u001b[38;5;241m=\u001b[39m tol \u001b[38;5;28;01mfor\u001b[39;00m e \u001b[38;5;129;01min\u001b[39;00m qr_error),\n\u001b[0;32m     42\u001b[0m     \u001b[38;5;124m\"\u001b[39m\u001b[38;5;124miterations\u001b[39m\u001b[38;5;124m\"\u001b[39m: qr_iterations\n\u001b[0;32m     43\u001b[0m }\n",
      "\u001b[1;31mTypeError\u001b[0m: 'numpy.float64' object is not iterable"
     ]
    }
   ],
   "source": [
    "def compare_with_numpy(matrix, tol=1e-6):\n",
    "    \"\"\"\n",
    "    Compares eigenvalues and eigenvectors from different methods with NumPy's results and calculates the error.\n",
    "\n",
    "    Args:\n",
    "        matrix (list[list[float]] or np.ndarray): The matrix for which eigenvalues and eigenvectors are computed.\n",
    "        tol (float): Tolerance for comparison.\n",
    "\n",
    "    Returns:\n",
    "        dict: A dictionary containing the eigenvalues and eigenvectors from each method,\n",
    "              NumPy's results, and the errors for each method.\n",
    "    \"\"\"\n",
    "    results = {}\n",
    "    \n",
    "    # Convert the matrix to a numpy array if it's not already\n",
    "    matrix = np.array(matrix, dtype=float)\n",
    "\n",
    "    # NumPy Eigenvalues and Eigenvectors\n",
    "    np_eigenvalues, np_eigenvectors = np.linalg.eig(matrix)\n",
    "    real_np_eigenvalues = sorted(np_eigenvalues[np.isreal(np_eigenvalues)].real)\n",
    "    np_eigenvectors = np.array([np_eigenvectors[:, i] for i in range(len(np_eigenvalues))])\n",
    "    results[\"numpy\"] = {\"eigenvalues\": real_np_eigenvalues, \"eigenvectors\": np_eigenvectors}\n",
    "\n",
    "    # Characteristic Polynomial Method\n",
    "    eigenvalues_poly = eigenvalues_characteristic_polynomial_method(matrix, show=False)\n",
    "    poly_error = [abs(a - b) for a, b in zip(eigenvalues_poly, real_np_eigenvalues)]\n",
    "    results[\"characteristic_polynomial\"] = {\n",
    "        \"eigenvalues\": eigenvalues_poly,\n",
    "        \"errors\": poly_error,\n",
    "        \"within_tolerance\": all(e <= tol for e in poly_error)\n",
    "    }\n",
    "\n",
    "    # QR Algorithm\n",
    "    qr_eigenvalues, qr_iterations = eigenvalues_QR_algorithm(matrix)\n",
    "    qr_error = []\n",
    "    for my_eigenvalue, np_eigenvalue in zip(qr_eigenvalues, real_np_eigenvalues):\n",
    "        qr_error.append(abs(my_eigenvalue - np_eigenvalue))\n",
    "    results[\"qr_algorithm\"] = {\n",
    "        \"eigenvalues\": qr_eigenvalues,\n",
    "        \"errors\": qr_error,\n",
    "        \"within_tolerance\": all(e <= tol for e in qr_error),\n",
    "        \"iterations\": qr_iterations\n",
    "    }\n",
    "\n",
    "    # Power Method \n",
    "    initial_guess = np.random.rand(len(matrix))\n",
    "    dominant_eigenvalue, dominant_eigenvector, power_iterations = eigenvalue_power_method(matrix, initial_guess)\n",
    "    dominant_error = abs(dominant_eigenvalue - max(real_np_eigenvalues))\n",
    "    dominant_vector_error = np.linalg.norm(\n",
    "        dominant_eigenvector - np_eigenvectors[np.argmax(real_np_eigenvalues)]\n",
    "    )\n",
    "    results[\"power_method\"] = {\n",
    "        \"dominant_eigenvalue\": dominant_eigenvalue,\n",
    "        \"eigenvector\": dominant_eigenvector,\n",
    "        \"error\": dominant_error,\n",
    "        \"vector_error\": dominant_vector_error,\n",
    "        \"within_tolerance\": dominant_error <= tol,\n",
    "        \"iterations\": power_iterations\n",
    "    }\n",
    "\n",
    "    # Results\n",
    "    print(\"Eigenvalue and Eigenvector Comparison\\n\")\n",
    "    print(\"NumPy Results:\")\n",
    "    print(f\"Eigenvalues: {real_np_eigenvalues}\")\n",
    "    print(\"Eigenvectors:\")\n",
    "    for vec in np_eigenvectors:\n",
    "        print(vec)\n",
    "    print(\"\\n\")\n",
    "\n",
    "    print(\"Characteristic Polynomial Method:\")\n",
    "    print(f\"  Eigenvalues: {eigenvalues_poly}\")\n",
    "    print(f\"  Errors: {poly_error}\")\n",
    "    print(f\"  Within Tolerance: {results['characteristic_polynomial']['within_tolerance']}\\n\")\n",
    "\n",
    "    print(\"Power Method:\")\n",
    "    print(f\"  Dominant Eigenvalue: {dominant_eigenvalue}\")\n",
    "    print(f\"  Error: {dominant_error}\")\n",
    "    print(f\"  Eigenvector: {dominant_eigenvector}\")\n",
    "    print(f\"  Vector Error: {dominant_vector_error}\")\n",
    "    print(f\"  Iterations: {power_iterations}\")\n",
    "    print(f\"  Within Tolerance: {results['power_method']['within_tolerance']}\\n\")\n",
    "    \n",
    "    print(\"QR Algorithm:\")\n",
    "    print(f\"  Eigenvalues: {qr_eigenvalues}\")\n",
    "    print(f\"  Errors: {qr_error}\")\n",
    "    print(f\"  Iterations: {qr_iterations}\")\n",
    "    print(f\"  Within Tolerance: {results['qr_algorithm']['within_tolerance']}\\n\")\n",
    "    \n",
    "    return results\n",
    "\n",
    "\n",
    "# Example Usage\n",
    "A = [[2, 1], [3, 4]]  # Replace with your test matrix\n",
    "comparison_results = compare_with_numpy(A, tol=1e-6)"
   ]
  },
  {
   "cell_type": "markdown",
   "id": "8d97ea5ca7b1530e",
   "metadata": {
    "collapsed": false,
    "jupyter": {
     "outputs_hidden": false
    }
   },
   "source": [
    "## Test for Matrix A\n",
    "\n",
    "$ A = \\begin{bmatrix} 2 & 1 \\\\ 3 & 4 \\end{bmatrix} $\n"
   ]
  },
  {
   "cell_type": "code",
   "execution_count": 17,
   "id": "5e5d20f91f51f04e",
   "metadata": {
    "ExecuteTime": {
     "end_time": "2024-12-07T01:43:39.115124300Z",
     "start_time": "2024-12-07T01:43:39.093129600Z"
    },
    "collapsed": false,
    "jupyter": {
     "outputs_hidden": false
    }
   },
   "outputs": [
    {
     "name": "stdout",
     "output_type": "stream",
     "text": [
      "\n",
      "Characteristic Polynomial Method:\n",
      "El polinomio caracteristico de la matriz es  5 + -6λ^1 + 1λ^2\n",
      "Los valores propios son  1.0 5.0\n",
      "\n",
      "\n",
      "Power Method (for dominant eigenvalue):\n",
      "Dominant Eigenvalue: 5.000000000234387\n",
      "Iterations: 13\n",
      "\n",
      "QR Algorithm:\n",
      "Eigenvalues: 0.9999999999999997\n",
      "Iterations: 4.999999999999999\n",
      "\n",
      "Comparison:\n",
      "QR Algorithm Iterations: 4\n",
      "Power Method Iterations: 13\n",
      "Eigenvalues from all methods align (characteristic, QR, and Power Method for dominant).\n"
     ]
    }
   ],
   "source": [
    "tol = 1e-6\n",
    "M = [[2, 1], [3, 4]] # Matrix A\n",
    "compare_methods_iterations(A)\n"
   ]
  },
  {
   "cell_type": "markdown",
   "id": "2e6155b4-3b36-4c00-9099-f0699befa3f2",
   "metadata": {
    "collapsed": false,
    "jupyter": {
     "outputs_hidden": false
    }
   },
   "source": [
    "## Test for Matrix B\n",
    "\n",
    "$ B = \\begin{bmatrix} 3 & 2 \\\\ 3 & 4 \\end{bmatrix} $"
   ]
  },
  {
   "cell_type": "code",
   "execution_count": null,
   "id": "f9934079-80c1-47d0-9ede-4683c90bd38d",
   "metadata": {
    "collapsed": false,
    "jupyter": {
     "outputs_hidden": false
    }
   },
   "outputs": [],
   "source": []
  },
  {
   "cell_type": "markdown",
   "id": "5595b2d9-e1ff-4b7a-a009-bdeeb86968d0",
   "metadata": {},
   "source": [
    "## Test for Matrix C\n",
    "\n",
    "$ C = \\begin{bmatrix} 2 & 3 \\\\ 1 & 4 \\end{bmatrix} $"
   ]
  },
  {
   "cell_type": "code",
   "execution_count": null,
   "id": "b19c89cb-4d30-42c4-a26f-05bfbbe2cf38",
   "metadata": {},
   "outputs": [],
   "source": []
  },
  {
   "cell_type": "markdown",
   "id": "63e6d0fa-bf95-473c-81bb-10359fb9c256",
   "metadata": {},
   "source": [
    "## Test for Matrix D\n",
    "\n",
    "$ D = \\begin{bmatrix} 1 & 1 & 2 \\\\ 2 & 1 & 1 \\\\ 1 & 1 & 3 \\end{bmatrix} $\n"
   ]
  },
  {
   "cell_type": "code",
   "execution_count": null,
   "id": "de762d51-b315-4faf-a990-7b25415eb5ca",
   "metadata": {},
   "outputs": [],
   "source": []
  },
  {
   "cell_type": "markdown",
   "id": "e8cbfbc1-30f1-4001-93cf-9c80516d44f9",
   "metadata": {},
   "source": [
    "## Test for Matrix E\n",
    "\n",
    "$ E = \\begin{bmatrix} 1 & 1 & 2 \\\\ 2 & 1 & 3 \\\\ 1 & 1 & 1 \\end{bmatrix} $\n"
   ]
  },
  {
   "cell_type": "markdown",
   "id": "ecfc02a1-f8d8-4733-b39e-773ead38305a",
   "metadata": {},
   "source": [
    "## Test for Matrix F\n",
    "\n",
    "$ F = \\begin{bmatrix} 2 & 1 & 2 \\\\ 1 & 1 & 3 \\\\ 1 & 1 & 1 \\end{bmatrix} $\n"
   ]
  },
  {
   "cell_type": "markdown",
   "id": "f585d98e-a1ca-402a-9d28-cd0e7920bf0f",
   "metadata": {},
   "source": [
    "## Test for Matrix G\n",
    "\n",
    "$ G = \\begin{bmatrix} 1 & 1 & 1 & 2 \\\\ 2 & 1 & 1 & 1 \\\\ 3 & 2 & 1 & 2 \\\\ 2 & 1 & 1 & 4 \\end{bmatrix} $\n"
   ]
  },
  {
   "cell_type": "markdown",
   "id": "b21fe52c-4ee3-4af3-a4c5-28a52960ea9d",
   "metadata": {},
   "source": [
    "## Test for Matrix H\n",
    "\n",
    "$ H = \\begin{bmatrix} 1 & 2 & 1 & 2 \\\\ 2 & 1 & 1 & 1 \\\\ 3 & 2 & 1 & 2 \\\\ 2 & 1 & 1 & 4 \\end{bmatrix} $"
   ]
  },
  {
   "cell_type": "code",
   "execution_count": null,
   "id": "4c91b872-6580-4a69-acbc-af44075a6651",
   "metadata": {},
   "outputs": [],
   "source": []
  }
 ],
 "metadata": {
  "kernelspec": {
   "display_name": "Python 3 (ipykernel)",
   "language": "python",
   "name": "python3"
  },
  "language_info": {
   "codemirror_mode": {
    "name": "ipython",
    "version": 3
   },
   "file_extension": ".py",
   "mimetype": "text/x-python",
   "name": "python",
   "nbconvert_exporter": "python",
   "pygments_lexer": "ipython3",
   "version": "3.9.17"
  }
 },
 "nbformat": 4,
 "nbformat_minor": 5
}
