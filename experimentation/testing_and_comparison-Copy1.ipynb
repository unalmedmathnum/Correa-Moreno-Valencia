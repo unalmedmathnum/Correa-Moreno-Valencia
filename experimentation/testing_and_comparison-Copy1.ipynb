{
 "cells": [
  {
   "cell_type": "markdown",
   "id": "67cc83ea56eb6cf3",
   "metadata": {
    "collapsed": false,
    "jupyter": {
     "outputs_hidden": false
    }
   },
   "source": [
    "# Testing and Comparing Different Methods"
   ]
  },
  {
   "cell_type": "markdown",
   "id": "e623625e554296a5",
   "metadata": {
    "collapsed": false,
    "jupyter": {
     "outputs_hidden": false
    }
   },
   "source": [
    "First let's import the necessary libraries and implementations for the methods."
   ]
  },
  {
   "cell_type": "code",
   "execution_count": 6,
   "id": "initial_id",
   "metadata": {
    "ExecuteTime": {
     "end_time": "2024-12-07T01:43:32.473187100Z",
     "start_time": "2024-12-07T01:43:32.449190300Z"
    }
   },
   "outputs": [],
   "source": [
    "import numpy as np\n",
    "import source_code as sc\n",
    "from source_code import eigenvalues_characteristic_polynomial_method, eigenvalue_power_method, eigenvalues_QR_algorithm"
   ]
  },
  {
   "cell_type": "markdown",
   "id": "6b8d1175516fe05f",
   "metadata": {
    "collapsed": false,
    "jupyter": {
     "outputs_hidden": false
    }
   },
   "source": [
    "We will now proceed to test all the matrices using each of the methods and compare the results. Specifically, we will evaluate the number of iterations required by each method and compare the eigenvalues they produce against the results obtained from NumPy."
   ]
  },
  {
   "cell_type": "code",
   "execution_count": 19,
   "id": "3047ae2d-bffa-4304-a7cc-5074584f1f2c",
   "metadata": {},
   "outputs": [],
   "source": [
    "def compare(matrix, initial_guess,tol=1e-6):\n",
    "    \"\"\"\n",
    "    Compares eigenvalues and eigenvectors from different methods with NumPy's results and calculates the error.\n",
    "\n",
    "    Args:\n",
    "        matrix (list[list[float]] or np.ndarray): The matrix for which eigenvalues and eigenvectors are computed.\n",
    "        tol (float): Tolerance for comparison.\n",
    "\n",
    "    Returns:\n",
    "        dict: A dictionary containing the eigenvalues and eigenvectors from each method,\n",
    "              NumPy's results, and the errors for each method.\n",
    "    \"\"\"\n",
    "    results = {}\n",
    "    \n",
    "    # Convert the matrix to a numpy array if it's not already\n",
    "    matrix = np.array(matrix, dtype=float)\n",
    "    np_eigenvalues_M = np.linalg.eigvals(M)\n",
    "    real_eigenvalues_M = sorted(np_eigenvalues_M[np.isreal(np_eigenvalues_M)].real)\n",
    "    np_eigenvalues, np_eigenvectors = np.linalg.eig(matrix)\n",
    "    real_np_eigenvalues = sorted(np_eigenvalues[np.isreal(np_eigenvalues)].real)\n",
    "    np_eigenvectors = np.array([np_eigenvectors[:, i] for i in range(len(np_eigenvalues))])\n",
    "    results[\"numpy\"] = {\"eigenvalues\": real_np_eigenvalues, \"eigenvectors\": np_eigenvectors}\n",
    "\n",
    "    # Characteristic Polynomial Method\n",
    "    eigenvalues_poly = eigenvalues_characteristic_polynomial_method(matrix, show=False)\n",
    "    poly_error = [abs(a - b) for a, b in zip(eigenvalues_poly, real_np_eigenvalues)]\n",
    "    results[\"characteristic_polynomial\"] = {\n",
    "        \"eigenvalues\": eigenvalues_poly,\n",
    "        \"errors\": poly_error,\n",
    "        \"within_tolerance\": all(e <= tol for e in poly_error)\n",
    "    }\n",
    "\n",
    "    # QR Algorithm\n",
    "    eigenvalues_M, qr_iterations = eigenvalues_QR_algorithm(matrix)\n",
    "    qr_error = []\n",
    "    for my_eigenvalue, np_eigenvalue in zip(eigenvalues_M, real_eigenvalues_M):\n",
    "        qr_error.append(abs(my_eigenvalue - np_eigenvalue))\n",
    "    \n",
    "    results[\"qr_algorithm\"] = {\n",
    "        \"eigenvalues\": eigenvalues_M,\n",
    "        \"errors\": qr_error,\n",
    "        \"within_tolerance\": all(e <= tol for e in qr_error),\n",
    "        \"iterations\": qr_iterations\n",
    "    }\n",
    "\n",
    "    # Power Method \n",
    "    dominant_eigenvalue, dominant_eigenvector, power_iterations = eigenvalue_power_method(matrix, initial_guess)\n",
    "    dominant_error = abs(dominant_eigenvalue - max(real_np_eigenvalues))\n",
    "    numpy_dominant_eigenvector = np_eigenvectors[np.argmax(real_np_eigenvalues)]\n",
    "    results[\"power_method\"] = {\n",
    "        \"dominant_eigenvalue\": dominant_eigenvalue,\n",
    "        \"eigenvector\": dominant_eigenvector,\n",
    "        \"error\": dominant_error,\n",
    "        \"within_tolerance\": dominant_error <= tol,\n",
    "        \"iterations\": power_iterations\n",
    "    }\n",
    "\n",
    "    # Results\n",
    "    print(\"Eigenvalue and Eigenvector Comparison\\n\")\n",
    "    print(\"NumPy Results:\")\n",
    "    print(f\"Eigenvalues: {real_np_eigenvalues}\")\n",
    "    print(\"Eigenvectors:\")\n",
    "    for vec in np_eigenvectors:\n",
    "        print(vec)\n",
    "    print(\"\\n\")\n",
    "\n",
    "    print(\"Characteristic Polynomial Method:\")\n",
    "    print(f\"  Eigenvalues: {eigenvalues_poly}\")\n",
    "    print(f\"  Errors: {poly_error}\")\n",
    "    print(f\"  Within Tolerance: {results['characteristic_polynomial']['within_tolerance']}\\n\")\n",
    "\n",
    "    print(\"Power Method:\")\n",
    "    print(f\"  Dominant Eigenvalue: {dominant_eigenvalue}\")\n",
    "    print(f\"  Error: {dominant_error}\")\n",
    "    print(f\"  Eigenvector: {dominant_eigenvector}\")\n",
    "    print(f\"  Iterations: {power_iterations}\")\n",
    "    print(f\"  Within Tolerance: {results['power_method']['within_tolerance']}\\n\")\n",
    "    \n",
    "    print(\"QR Algorithm:\")\n",
    "    print(f\"  Eigenvalues: {eigenvalues_M}\")\n",
    "    print(f\"  Errors: {qr_error}\")\n",
    "    print(f\"  Iterations: {qr_iterations}\")\n",
    "    print(f\"  Within Tolerance: {results['qr_algorithm']['within_tolerance']}\\n\")\n",
    "    \n",
    "    return results"
   ]
  },
  {
   "cell_type": "markdown",
   "id": "8d97ea5ca7b1530e",
   "metadata": {
    "collapsed": false,
    "jupyter": {
     "outputs_hidden": false
    }
   },
   "source": [
    "## Test for Matrix A\n",
    "\n",
    "$ A = \\begin{bmatrix} 2 & 1 \\\\ 3 & 4 \\end{bmatrix} $\n"
   ]
  },
  {
   "cell_type": "code",
   "execution_count": 25,
   "id": "5e5d20f91f51f04e",
   "metadata": {
    "ExecuteTime": {
     "end_time": "2024-12-07T01:43:39.115124300Z",
     "start_time": "2024-12-07T01:43:39.093129600Z"
    },
    "collapsed": false,
    "jupyter": {
     "outputs_hidden": false
    }
   },
   "outputs": [
    {
     "name": "stdout",
     "output_type": "stream",
     "text": [
      "Eigenvalue and Eigenvector Comparison\n",
      "\n",
      "NumPy Results:\n",
      "Eigenvalues: [1.0, 5.0]\n",
      "Eigenvectors:\n",
      "[-0.70710678  0.70710678]\n",
      "[-0.31622777 -0.9486833 ]\n",
      "\n",
      "\n",
      "Characteristic Polynomial Method:\n",
      "  Eigenvalues: [1.0, 5.0]\n",
      "  Errors: [0.0, 0.0]\n",
      "  Within Tolerance: True\n",
      "\n",
      "Power Method:\n",
      "  Dominant Eigenvalue: 5.000000000101592\n",
      "  Error: 1.0159162400213972e-10\n",
      "  Eigenvector: [0.31622777 0.9486833 ]\n",
      "  Iterations: 13\n",
      "  Within Tolerance: True\n",
      "\n",
      "QR Algorithm:\n",
      "  Eigenvalues: [0.9999999999999997, 4.999999999999999]\n",
      "  Errors: [2.087934923662562, 5.46744323473112]\n",
      "  Iterations: 464\n",
      "  Within Tolerance: False\n",
      "\n"
     ]
    }
   ],
   "source": [
    "tol = 1e-6\n",
    "A = np.array([[2, 1], [3, 4]])\n",
    "x = np.random.rand(A.shape[0])\n",
    "results_A = compare_with_numpy(A, tol)"
   ]
  },
  {
   "cell_type": "markdown",
   "id": "2e6155b4-3b36-4c00-9099-f0699befa3f2",
   "metadata": {
    "collapsed": false,
    "jupyter": {
     "outputs_hidden": false
    }
   },
   "source": [
    "## Test for Matrix B\n",
    "\n",
    "$ B = \\begin{bmatrix} 3 & 2 \\\\ 3 & 4 \\end{bmatrix} $"
   ]
  },
  {
   "cell_type": "code",
   "execution_count": 26,
   "id": "f9934079-80c1-47d0-9ede-4683c90bd38d",
   "metadata": {
    "collapsed": false,
    "jupyter": {
     "outputs_hidden": false
    }
   },
   "outputs": [
    {
     "name": "stdout",
     "output_type": "stream",
     "text": [
      "Eigenvalue and Eigenvector Comparison\n",
      "\n",
      "NumPy Results:\n",
      "Eigenvalues: [1.0, 6.0]\n",
      "Eigenvectors:\n",
      "[-0.70710678  0.70710678]\n",
      "[-0.5547002  -0.83205029]\n",
      "\n",
      "\n",
      "Characteristic Polynomial Method:\n",
      "  Eigenvalues: [1.0, 6.0]\n",
      "  Errors: [0.0, 0.0]\n",
      "  Within Tolerance: True\n",
      "\n",
      "Power Method:\n",
      "  Dominant Eigenvalue: 6.000000000151369\n",
      "  Error: 1.5136869535581354e-10\n",
      "  Eigenvector: [0.5547002  0.83205029]\n",
      "  Iterations: 11\n",
      "  Within Tolerance: True\n",
      "\n",
      "QR Algorithm:\n",
      "  Eigenvalues: [1.0, 6.0]\n",
      "  Errors: [2.0879349236625626, 6.467443234731121]\n",
      "  Iterations: 417\n",
      "  Within Tolerance: False\n",
      "\n"
     ]
    }
   ],
   "source": [
    "tol = 1e-6\n",
    "B = np.array([[3, 2], [3, 4]])\n",
    "x = np.random.rand(B.shape[0])\n",
    "results_B = compare_with_numpy(B, tol)"
   ]
  },
  {
   "cell_type": "markdown",
   "id": "5595b2d9-e1ff-4b7a-a009-bdeeb86968d0",
   "metadata": {},
   "source": [
    "## Test for Matrix C\n",
    "\n",
    "$ C = \\begin{bmatrix} 2 & 3 \\\\ 1 & 4 \\end{bmatrix} $"
   ]
  },
  {
   "cell_type": "code",
   "execution_count": 27,
   "id": "b19c89cb-4d30-42c4-a26f-05bfbbe2cf38",
   "metadata": {},
   "outputs": [
    {
     "name": "stdout",
     "output_type": "stream",
     "text": [
      "Eigenvalue and Eigenvector Comparison\n",
      "\n",
      "NumPy Results:\n",
      "Eigenvalues: [1.0, 5.0]\n",
      "Eigenvectors:\n",
      "[-0.9486833   0.31622777]\n",
      "[-0.70710678 -0.70710678]\n",
      "\n",
      "\n",
      "Characteristic Polynomial Method:\n",
      "  Eigenvalues: [1.0, 5.0]\n",
      "  Errors: [0.0, 0.0]\n",
      "  Within Tolerance: True\n",
      "\n",
      "Power Method:\n",
      "  Dominant Eigenvalue: 5.000000000191516\n",
      "  Error: 1.915161362830986e-10\n",
      "  Eigenvector: [0.70710678 0.70710678]\n",
      "  Iterations: 13\n",
      "  Within Tolerance: True\n",
      "\n",
      "QR Algorithm:\n",
      "  Eigenvalues: [1.0, 4.999999999999998]\n",
      "  Errors: [2.0879349236625626, 5.467443234731119]\n",
      "  Iterations: 464\n",
      "  Within Tolerance: False\n",
      "\n"
     ]
    }
   ],
   "source": [
    "tol = 1e-6\n",
    "C = np.array([[2, 3], [1, 4]])\n",
    "x = np.random.rand(C.shape[0])\n",
    "results_C = compare_with_numpy(C, tol)"
   ]
  },
  {
   "cell_type": "markdown",
   "id": "63e6d0fa-bf95-473c-81bb-10359fb9c256",
   "metadata": {},
   "source": [
    "## Test for Matrix D\n",
    "\n",
    "$ D = \\begin{bmatrix} 1 & 1 & 2 \\\\ 2 & 1 & 1 \\\\ 1 & 1 & 3 \\end{bmatrix} $\n"
   ]
  },
  {
   "cell_type": "code",
   "execution_count": 28,
   "id": "de762d51-b315-4faf-a990-7b25415eb5ca",
   "metadata": {},
   "outputs": [
    {
     "name": "stdout",
     "output_type": "stream",
     "text": [
      "Eigenvalue and Eigenvector Comparison\n",
      "\n",
      "NumPy Results:\n",
      "Eigenvalues: [-0.28514248182978585, 0.7781238377368096, 4.507018644092976]\n",
      "Eigenvectors:\n",
      "[-0.53231709 -0.49863934 -0.6841033 ]\n",
      "[-0.49762292  0.86033768 -0.11041066]\n",
      "[-0.1297142  -0.88103974  0.45491011]\n",
      "\n",
      "\n",
      "Characteristic Polynomial Method:\n",
      "  Eigenvalues: [-0.2851424818297853, 0.7781238377368085, 4.507018644092975]\n",
      "  Errors: [5.551115123125783e-16, 1.1102230246251565e-15, 8.881784197001252e-16]\n",
      "  Within Tolerance: True\n",
      "\n",
      "Power Method:\n",
      "  Dominant Eigenvalue: 4.507018644167408\n",
      "  Error: 7.44320161061296e-11\n",
      "  Eigenvector: [0.53231709 0.49863934 0.6841033 ]\n",
      "  Iterations: 11\n",
      "  Within Tolerance: True\n",
      "\n",
      "QR Algorithm:\n",
      "  Eigenvalues: [-0.28514248182978563, 0.7781238377368092, 4.507018644092973]\n",
      "  Errors: [0.802792441832777, 1.2455670724679302, 2.7789027358033316]\n",
      "  Iterations: 999\n",
      "  Within Tolerance: False\n",
      "\n"
     ]
    }
   ],
   "source": [
    "tol = 1e-6\n",
    "D = np.array([[1, 1, 2], [2, 1, 1], [1, 1, 3]])\n",
    "x = np.random.rand(D.shape[0])\n",
    "results_D = compare_with_numpy(D, tol)"
   ]
  },
  {
   "cell_type": "markdown",
   "id": "e8cbfbc1-30f1-4001-93cf-9c80516d44f9",
   "metadata": {},
   "source": [
    "## Test for Matrix E\n",
    "\n",
    "$ E = \\begin{bmatrix} 1 & 1 & 2 \\\\ 2 & 1 & 3 \\\\ 1 & 1 & 1 \\end{bmatrix} $\n"
   ]
  },
  {
   "cell_type": "code",
   "execution_count": 29,
   "id": "5e38821e-ba55-4e84-8f45-daa30ce98cb1",
   "metadata": {},
   "outputs": [
    {
     "name": "stdout",
     "output_type": "stream",
     "text": [
      "Eigenvalue and Eigenvector Comparison\n",
      "\n",
      "NumPy Results:\n",
      "Eigenvalues: [-0.6920214716300966, -0.3568958678922092, 4.0489173395223075]\n",
      "Eigenvectors:\n",
      "[-0.51769363 -0.74808896 -0.41515805]\n",
      "[-0.85467668  0.21108771  0.47430977]\n",
      "[-0.26822309 -0.75154439  0.6026918 ]\n",
      "\n",
      "\n",
      "Characteristic Polynomial Method:\n",
      "  Eigenvalues: [-0.6920214716300959, -0.3568958678922095, 4.048917339522307]\n",
      "  Errors: [7.771561172376096e-16, 3.3306690738754696e-16, 8.881784197001252e-16]\n",
      "  Within Tolerance: True\n",
      "\n",
      "Power Method:\n",
      "  Dominant Eigenvalue: 4.0489173398372085\n",
      "  Error: 3.149009941694203e-10\n",
      "  Eigenvector: [0.51769363 0.74808896 0.41515805]\n",
      "  Iterations: 11\n",
      "  Within Tolerance: True\n",
      "\n",
      "QR Algorithm:\n",
      "  Eigenvalues: [-0.6920214716300964, -0.35689586789220923, 4.048917339522307]\n",
      "  Errors: [0.3959134520324662, 0.11054736683891181, 2.320801431232665]\n",
      "  Iterations: 999\n",
      "  Within Tolerance: False\n",
      "\n"
     ]
    }
   ],
   "source": [
    "tol = 1e-6\n",
    "E = np.array([[1, 1, 2], [2, 1, 3], [1, 1, 1]])\n",
    "x = np.random.rand(E.shape[0])\n",
    "results_E = compare_with_numpy(E, tol)"
   ]
  },
  {
   "cell_type": "markdown",
   "id": "ecfc02a1-f8d8-4733-b39e-773ead38305a",
   "metadata": {},
   "source": [
    "## Test for Matrix F\n",
    "\n",
    "$ F = \\begin{bmatrix} 2 & 1 & 2 \\\\ 1 & 1 & 3 \\\\ 1 & 1 & 1 \\end{bmatrix} $\n"
   ]
  },
  {
   "cell_type": "code",
   "execution_count": 30,
   "id": "e9f981c9-f93b-4659-98c0-4bdc546b127b",
   "metadata": {},
   "outputs": [
    {
     "name": "stdout",
     "output_type": "stream",
     "text": [
      "Eigenvalue and Eigenvector Comparison\n",
      "\n",
      "NumPy Results:\n",
      "Eigenvalues: [-0.7615571818318907, 0.6366717620673152, 4.1248854197645715]\n",
      "Eigenvectors:\n",
      "[-0.67550236 -0.61159354 -0.41188579]\n",
      "[-0.72653358  0.66793428  0.16128473]\n",
      "[-0.07072589 -0.84969749  0.52250553]\n",
      "\n",
      "\n",
      "Characteristic Polynomial Method:\n",
      "  Eigenvalues: [-0.7615571818318908, 0.6366717620673163, 4.124885419764568]\n",
      "  Errors: [1.1102230246251565e-16, 1.1102230246251565e-15, 3.552713678800501e-15]\n",
      "  Within Tolerance: True\n",
      "\n",
      "Power Method:\n",
      "  Dominant Eigenvalue: 4.124885420010473\n",
      "  Error: 2.4590196545659637e-10\n",
      "  Eigenvector: [0.67550236 0.61159354 0.41188579]\n",
      "  Iterations: 12\n",
      "  Within Tolerance: True\n",
      "\n",
      "QR Algorithm:\n",
      "  Eigenvalues: [-0.761557181831891, 0.6366717620673172, 4.124885419764577]\n",
      "  Errors: [0.3263777418306716, 1.1041149967984383, 2.396769511474935]\n",
      "  Iterations: 999\n",
      "  Within Tolerance: False\n",
      "\n"
     ]
    }
   ],
   "source": [
    "tol = 1e-6\n",
    "F = np.array([[2, 1, 2], [1, 1, 3], [1, 1, 1]])\n",
    "x = np.random.rand(F.shape[0])\n",
    "results_F = compare_with_numpy(F, tol)"
   ]
  },
  {
   "cell_type": "markdown",
   "id": "f585d98e-a1ca-402a-9d28-cd0e7920bf0f",
   "metadata": {},
   "source": [
    "## Test for Matrix G\n",
    "\n",
    "$ G = \\begin{bmatrix} 1 & 1 & 1 & 2 \\\\ 2 & 1 & 1 & 1 \\\\ 3 & 2 & 1 & 2 \\\\ 2 & 1 & 1 & 4 \\end{bmatrix} $\n"
   ]
  },
  {
   "cell_type": "code",
   "execution_count": 31,
   "id": "d74e540d-5b1b-4cef-b4bd-5b8667c22447",
   "metadata": {},
   "outputs": [
    {
     "name": "stdout",
     "output_type": "stream",
     "text": [
      "Eigenvalue and Eigenvector Comparison\n",
      "\n",
      "NumPy Results:\n",
      "Eigenvalues: [-0.7356415384387976, -0.4074562701381244, 1.5085633449433251, 6.634534463633592]\n",
      "Eigenvectors:\n",
      "[0.38941594 0.35142164 0.55977506 0.6414904 ]\n",
      "[-0.10866639 -0.54839569 -0.61625428  0.55469311]\n",
      "[ 0.65148076 -0.31969406 -0.68513144 -0.06295578]\n",
      "[ 0.38913343 -0.80095815  0.44482357 -0.09577685]\n",
      "\n",
      "\n",
      "Characteristic Polynomial Method:\n",
      "  Eigenvalues: [-0.7356415384387962, -0.40745627013812413, 1.5085633449433264, 6.634534463633594]\n",
      "  Errors: [1.4432899320127035e-15, 2.7755575615628914e-16, 1.3322676295501878e-15, 1.7763568394002505e-15]\n",
      "  Within Tolerance: True\n",
      "\n",
      "Power Method:\n",
      "  Dominant Eigenvalue: 6.634534463552596\n",
      "  Error: 8.099654280613322e-11\n",
      "  Eigenvector: [0.38941594 0.35142164 0.55977506 0.6414904 ]\n",
      "  Iterations: 14\n",
      "  Within Tolerance: True\n",
      "\n",
      "QR Algorithm:\n",
      "  Eigenvalues: [-0.735641538438797, -0.407456270138124, 1.5085633449433236, 6.634534463633598]\n",
      "  Errors: [0.35229338522376563, 0.059986964592997016, 0.219552563346318, 0.1927277864704422]\n",
      "  Iterations: 999\n",
      "  Within Tolerance: False\n",
      "\n"
     ]
    }
   ],
   "source": [
    "tol = 1e-6\n",
    "G = np.array([[1, 1, 1, 2], [2, 1, 1, 1], [3, 2, 1, 2], [2, 1, 1, 4]])\n",
    "x = np.random.rand(G.shape[0])\n",
    "results_G = compare_with_numpy(G, tol)"
   ]
  },
  {
   "cell_type": "markdown",
   "id": "b21fe52c-4ee3-4af3-a4c5-28a52960ea9d",
   "metadata": {},
   "source": [
    "## Test for Matrix H\n",
    "\n",
    "$ H = \\begin{bmatrix} 1 & 2 & 1 & 2 \\\\ 2 & 1 & 1 & 1 \\\\ 3 & 2 & 1 & 2 \\\\ 2 & 1 & 1 & 4 \\end{bmatrix} $"
   ]
  },
  {
   "cell_type": "code",
   "execution_count": 32,
   "id": "4c91b872-6580-4a69-acbc-af44075a6651",
   "metadata": {},
   "outputs": [
    {
     "name": "stdout",
     "output_type": "stream",
     "text": [
      "Eigenvalue and Eigenvector Comparison\n",
      "\n",
      "NumPy Results:\n",
      "Eigenvalues: [-1.0879349236625626, -0.46744323473112104, 1.7281159082896416, 6.82726225010404]\n",
      "Eigenvectors:\n",
      "[-0.42853133 -0.34899468 -0.55406667 -0.62255421]\n",
      "[-0.24289613 -0.4838935  -0.52400705  0.65746876]\n",
      "[-0.71363438  0.35215497  0.598272    0.09372011]\n",
      "[-0.28400892 -0.22663858  0.93115005 -0.03055296]\n",
      "\n",
      "\n",
      "Characteristic Polynomial Method:\n",
      "  Eigenvalues: [-1.087934923662562, -0.46744323473112087, 1.7281159082896396, 6.827262250104043]\n",
      "  Errors: [6.661338147750939e-16, 1.6653345369377348e-16, 1.9984014443252818e-15, 3.552713678800501e-15]\n",
      "  Within Tolerance: True\n",
      "\n",
      "Power Method:\n",
      "  Dominant Eigenvalue: 6.827262250009321\n",
      "  Error: 9.471889939050016e-11\n",
      "  Eigenvector: [0.42853133 0.34899468 0.55406667 0.62255421]\n",
      "  Iterations: 15\n",
      "  Within Tolerance: True\n",
      "\n",
      "QR Algorithm:\n",
      "  Eigenvalues: [-1.0879349236625615, -0.46744323473112104, 1.7281159082896402, 6.827262250104039]\n",
      "  Errors: [1.1102230246251565e-15, 0.0, 1.3322676295501878e-15, 8.881784197001252e-16]\n",
      "  Iterations: 999\n",
      "  Within Tolerance: True\n",
      "\n"
     ]
    }
   ],
   "source": [
    "tol = 1e-6\n",
    "H = np.array([[1, 2, 1, 2], [2, 1, 1, 1], [3, 2, 1, 2], [2, 1, 1, 4]])\n",
    "x = np.random.rand(H.shape[0])\n",
    "results_H = compare_with_numpy(H, tol)"
   ]
  },
  {
   "cell_type": "code",
   "execution_count": 8,
   "id": "f7605e95-beda-4544-877b-ef1606d39086",
   "metadata": {},
   "outputs": [
    {
     "name": "stdout",
     "output_type": "stream",
     "text": [
      "[0.9999999999999997, 4.999999999999999]\n",
      "[1.0, 6.0]\n",
      "[1.0, 4.999999999999998]\n",
      "[-0.28514248182978563, 0.7781238377368092, 4.507018644092973]\n",
      "[-0.6920214716300964, -0.35689586789220923, 4.048917339522307]\n",
      "[-0.761557181831891, 0.6366717620673172, 4.124885419764577]\n",
      "[-0.735641538438797, -0.407456270138124, 1.5085633449433236, 6.634534463633598]\n",
      "[-1.0879349236625615, -0.46744323473112104, 1.7281159082896402, 6.827262250104039]\n",
      "No se presento ningun error para la matriz, los eigenvalues coinciden con los generados por numpy y los vectores asociados cumplen la regla de multiplicacion\n"
     ]
    }
   ],
   "source": [
    "tol = 1e-6\n",
    "for i, M in enumerate(matrices):\n",
    "    eigenvalues_M, oo = eigenvalues_QR_algorithm(M)\n",
    "    np_eigenvalues_M = np.linalg.eigvals(M)\n",
    "\n",
    "    # Filtrar los eigenvalues en R\n",
    "    real_eigenvalues_M = sorted(np_eigenvalues_M[np.isreal(np_eigenvalues_M)].real)\n",
    "\n",
    "    print(eigenvalues_M)\n",
    "\n",
    "    # testear los eigenvalues que produce el metodo con los que produce numpy\n",
    "    qr_error = []\n",
    "    for my_eigenvalue, np_eigenvalue in zip(eigenvalues_M, real_eigenvalues_M):\n",
    "        qr_error.append(abs(my_eigenvalue - np_eigenvalue)) \n",
    "\n",
    "    # testear los eigenvectors viendo que cumplen la regla Mv = lambdav\n",
    "    for lambd in eigenvalues_M:\n",
    "        v = sc.eigenvector(M, lambd, show=False) # Si selecciona show = True muestra mas informacion\n",
    "        assert np.linalg.norm(v) > 0, \"El vector propio es cero\"\n",
    "\n",
    "        Mv = np.dot(M, v)\n",
    "        lambd_v = lambd * v\n",
    "        assert np.linalg.norm(Mv - lambd_v) <= tol, f\"Error muy alto para la matriz en el indice {i}\"\n",
    "\n",
    "print(\"No se presento ningun error para la matriz, los eigenvalues coinciden con los generados por numpy y los vectores asociados cumplen la regla de multiplicacion\")"
   ]
  },
  {
   "cell_type": "code",
   "execution_count": null,
   "id": "17d15d20-d7ae-45f5-a8f6-e89a64c3823b",
   "metadata": {},
   "outputs": [],
   "source": []
  }
 ],
 "metadata": {
  "kernelspec": {
   "display_name": "Python 3 (ipykernel)",
   "language": "python",
   "name": "python3"
  },
  "language_info": {
   "codemirror_mode": {
    "name": "ipython",
    "version": 3
   },
   "file_extension": ".py",
   "mimetype": "text/x-python",
   "name": "python",
   "nbconvert_exporter": "python",
   "pygments_lexer": "ipython3",
   "version": "3.9.17"
  }
 },
 "nbformat": 4,
 "nbformat_minor": 5
}
