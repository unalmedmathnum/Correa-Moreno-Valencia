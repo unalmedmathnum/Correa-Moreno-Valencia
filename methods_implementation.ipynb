{
 "cells": [
  {
   "cell_type": "markdown",
   "metadata": {
    "id": "SplTYtQ0D9fe"
   },
   "source": [
    "\n",
    "<b>**<center>Numerical Analysis</b>**\n",
    "<b>**<center>Assignment 1: Eigenvalues and Eigenvectors</b>**\n",
    "\n",
    "<center> <t>Mariana Valencia Cubillos,\n",
    "Jose Daniel Moreno Ceballos, and Daniel Fernando Correa Carreño<t> </center>\n",
    "<center> <em><t>Universidad Nacional de Colombia<t> <em></center>\n",
    "\n"
   ]
  },
  {
   "cell_type": "code",
   "execution_count": 1,
   "outputs": [],
   "source": [
    "import numpy as np"
   ],
   "metadata": {
    "collapsed": false,
    "ExecuteTime": {
     "end_time": "2024-12-07T01:06:30.098512900Z",
     "start_time": "2024-12-07T01:06:29.835802100Z"
    }
   }
  },
  {
   "cell_type": "markdown",
   "source": [
    "# Method 1. The Characteristic Polynomial Method"
   ],
   "metadata": {
    "collapsed": false
   }
  },
  {
   "cell_type": "code",
   "execution_count": 2,
   "metadata": {
    "id": "yR1ETynj4Hi1",
    "ExecuteTime": {
     "end_time": "2024-12-07T01:06:30.124547500Z",
     "start_time": "2024-12-07T01:06:30.120538200Z"
    }
   },
   "outputs": [],
   "source": [
    "class Polynomial:\n",
    "    \"\"\"\n",
    "    Clase que representa un polinomio\n",
    "\n",
    "    Attributes:\n",
    "        coefficients (list[float]): Lista de coeficientes del polinomio\n",
    "\n",
    "    Methods:\n",
    "        __init__(self, coefficients): Inicializa un polinomio con una lista de coeficientes\n",
    "        __str__(self): Devuelve una representación en cadena del polinomio\n",
    "        __add__(self, poly): Suma dos polinomios\n",
    "        __mul__(self, poly): Multiplica dos polinomios\n",
    "    \"\"\"\n",
    "\n",
    "    def __init__(self, coefficients = None):\n",
    "        self.coefficients = coefficients or [0]\n",
    "\n",
    "    def __str__(self):\n",
    "        \"\"\"\n",
    "        Devuelve una representación en cadena del polinomio\n",
    "\n",
    "        Returns:\n",
    "            str: Representación del polinomio en forma de string\n",
    "        \"\"\"\n",
    "        grade = len(self.coefficients) # grade - 1 es el grado del polinomio\n",
    "\n",
    "        # Se crean los términos del polinomio en formato 'coeficiente x^exponente'\n",
    "        terms = [str(self.coefficients[0])] + [f\"{self.coefficients[i]}λ^{i}\" for i in range(1, grade)]\n",
    "        # Se juntan los terminos con la suma\n",
    "        return \" + \".join(terms)\n",
    "\n",
    "    def __add__(self, poly):\n",
    "        \"\"\"\n",
    "        Suma dos polinomios\n",
    "\n",
    "        Args:\n",
    "            poly (Polynomial): Polinomio a sumar\n",
    "\n",
    "        Returns:\n",
    "            Polynomial: Polinomio resultante de la suma de la instancia actual y 'poly'\n",
    "        \"\"\"\n",
    "        n = len(poly.coefficients) # Número de coeficientes del segundo polinomio\n",
    "        m = len(self.coefficients) # Número de coeficientes del primer polinomio\n",
    "\n",
    "        grade = max(len(self.coefficients), len(poly.coefficients)) # grade - 1 es el grado del polinomio\n",
    "        new_coefficients = [0] * grade\n",
    "\n",
    "        # Suma los coeficientes de los términos comunes de ambos polinomios\n",
    "        for i in range(min(n, m)):\n",
    "            new_coefficients[i] = poly.coefficients[i] + self.coefficients[i]\n",
    "\n",
    "        # Si el segundo polinomio tiene más términos que el primero, agrega los restantes\n",
    "        for i in range(min(n, m), len(poly.coefficients)):\n",
    "            new_coefficients[i] = poly.coefficients[i]\n",
    "\n",
    "        # Si el primer polinomio tiene más términos que el segundo, agrega los restantes\n",
    "        for i in range(min(n, m), len(self.coefficients)):\n",
    "            new_coefficients[i] = self.coefficients[i]\n",
    "\n",
    "        return Polynomial(new_coefficients) # Devuelva un nuevo objeto Polynomial con los coeficientes sumados\n",
    "\n",
    "\n",
    "    def __mul__(self, poly):\n",
    "        \"\"\"\n",
    "        Multiplica dos polinomios\n",
    "\n",
    "        Args:\n",
    "            poly (Polynomial): Polinomio a multiplicar\n",
    "\n",
    "        Returns:\n",
    "            Polynomial: Polinomio resultante de la multiplicación de la instancia actual y 'poly'\n",
    "        \"\"\"\n",
    "        m = len(self.coefficients) # Número de coeficientes del primer polinomio\n",
    "        n = len(poly.coefficients) # Número de coeficientes del segundo polinomio\n",
    "\n",
    "        grade = n + m - 1 # grade - 1 es el grado del polinomio\n",
    "        new_coefficients = [0] * grade\n",
    "\n",
    "        # Realiza la multiplicación de polinomios usando el método distributivo\n",
    "        for i in range(n):\n",
    "            for j in range(m):\n",
    "                new_coefficients[i + j] += poly.coefficients[i] * self.coefficients[j]\n",
    "\n",
    "        return Polynomial(new_coefficients) # Devuelve un nuevo objeto Polynomial con los coeficientes de la multiplicacion"
   ]
  },
  {
   "cell_type": "code",
   "execution_count": 3,
   "metadata": {
    "id": "WfQ2b1ggU2Qr",
    "ExecuteTime": {
     "end_time": "2024-12-07T01:06:30.173793300Z",
     "start_time": "2024-12-07T01:06:30.135086100Z"
    }
   },
   "outputs": [],
   "source": [
    "def gauss_elimination(A : list[list[float]]):\n",
    "    \"\"\"\n",
    "    Función que implementa el método de eliminación gaussiana para resolver sistemas de ecuaciones lineales\n",
    "    A es una lista de listas que representa la matriz aumentada del sistema (coeficientes + términos independientes)\n",
    "    Si el sistema es homogeneo y tiene solucion no trivial, devuelve solucion no trivial\n",
    "\n",
    "    Args:\n",
    "        A (list[list[float]]): Matriz aumentada del sistema de ecuaciones\n",
    "\n",
    "    Returns:\n",
    "        list[float]: Vector solución del sistema.\n",
    "    \"\"\"\n",
    "    # Definimos una pequeña tolerancia para considerar un número cercano a cero como cero.\n",
    "    eps = 1e-9\n",
    "\n",
    "    # Número de variables (o ecuaciones) en el sistema\n",
    "    n = len(A)\n",
    "    # Lista que indica en qué fila se encuentra el pivote de cada columna (inicialmente ninguna)\n",
    "    where = [-1] * n\n",
    "\n",
    "    # Inicializamos la fila en la que trabajaremos\n",
    "    row = 0\n",
    "\n",
    "    # Iteramos por cada columna de la matriz (correspondiente a cada variable)\n",
    "    for col in range(n):\n",
    "        selected = row\n",
    "\n",
    "        # Encontramos la fila con el mayor valor absoluto en la columna actual (para mayor estabilidad numérica)\n",
    "        for i in range(row, n):\n",
    "            if abs(A[i][col]) > abs(A[selected][col]):\n",
    "                selected = i\n",
    "\n",
    "        # Si el mayor valor absoluto en la columna es menor que la tolerancia, consideramos la columna como cero\n",
    "        # y si es el caso de que es 0, no hay pivote para la variable de la actual columna, por lo que pase a la siguiente columna\n",
    "        if abs(A[selected][col]) < eps:\n",
    "            continue\n",
    "\n",
    "        # Si la fila seleccionada no es la fila actual, intercambiamos las filas\n",
    "        if selected != row:\n",
    "            A[selected], A[row] = A[row], A[selected]\n",
    "\n",
    "        where[col] = row # Indicamos que esta columna tiene su pivote en la fila 'row'\n",
    "\n",
    "        # Eliminamos los valores debajo y encima del pivote para convertir la matriz en forma escalonada reducida.\n",
    "        for i in range(n):\n",
    "            if i != row: # Ignoramos la fila actual\n",
    "\n",
    "                # Calculamos el factor para dejar en 0 la columna de la variable, ignorando la fila actual\n",
    "                factor = A[i][col] / A[row][col]\n",
    "\n",
    "                for j in range(col, n + 1): # incluye la columna de términos independientes.\n",
    "                    A[i][j] -= factor * A[row][j]\n",
    "\n",
    "        row += 1\n",
    "\n",
    "    # Inicializamos el vector solución con ceros\n",
    "    sol = [0] * n\n",
    "    # Identificamos las variables libres (aquellas que no tienen una fila asociada)\n",
    "    free_vars = [i for i in range(n) if where[i] == -1]\n",
    "\n",
    "    # Asignamos un valor arbitrario (1 en este caso) a las variables libres para tener solucion no trivial\n",
    "    for i in free_vars:\n",
    "        sol[i] = 1\n",
    "\n",
    "    # Sustitucion hacia atras para hallar cada termino de la solucion\n",
    "    for i in range(n):\n",
    "        if where[i] != -1:\n",
    "            row = where[i]\n",
    "            sol[i] = -sum(A[row][k] * sol[k] for k in range(i + 1, n)) / A[row][i]\n",
    "\n",
    "    # Retornamos el vector solución del sistema.\n",
    "    return sol"
   ]
  },
  {
   "cell_type": "code",
   "execution_count": 4,
   "metadata": {
    "id": "iu7YhjxvDdcD",
    "ExecuteTime": {
     "end_time": "2024-12-07T01:06:30.174789800Z",
     "start_time": "2024-12-07T01:06:30.156225300Z"
    }
   },
   "outputs": [],
   "source": [
    "def determinant(A : list[list[Polynomial]]):\n",
    "    \"\"\"\n",
    "    Función para calcular el determinante de una matriz, donde los elementos son objetos de la clase Polynomial.\n",
    "    A es una lista de listas que representa la matriz cuadrada.\n",
    "\n",
    "    Args:\n",
    "        A (list[list[Polynomial]]): Matriz cuadrada de entrada\n",
    "\n",
    "    Returns:\n",
    "        Polynomial: Determinante de la matriz A.\n",
    "    \"\"\"\n",
    "\n",
    "    n = len(A) # Dimensión de la matriz\n",
    "\n",
    "    # Caso base: si la matriz es de 1x1, el determinante es el único elemento de la matriz\n",
    "    if n == 1:\n",
    "        return A[0][0]\n",
    "\n",
    "    # Calculamos la suma de los cofactores\n",
    "    acum = Polynomial([0]) # inicializar la suma a 0\n",
    "    for i in range(n):\n",
    "        sign = Polynomial([(-1)**i]) # Signo cofactor\n",
    "\n",
    "        # Construimos la submatriz excluyendo la fila 0 (primera fila) y la columna 'i'\n",
    "        new_matrix = [[A[x][y] for y in range(n) if y != i] for x in range(n) if x != 0]\n",
    "\n",
    "        # Calculamos el cofactor multiplicando el signo, el elemento correspondiente, y el determinante de la submatriz\n",
    "        cofactor = sign * A[0][i] * determinant(new_matrix)\n",
    "\n",
    "        # Sumamos el cofactor al acumulador del determinante.\n",
    "        acum = acum + cofactor\n",
    "\n",
    "    # Devolvemos el determinante calculado\n",
    "    return acum"
   ]
  },
  {
   "cell_type": "code",
   "execution_count": 5,
   "metadata": {
    "id": "3JaqLhVEEGcm",
    "ExecuteTime": {
     "end_time": "2024-12-07T01:06:30.186151900Z",
     "start_time": "2024-12-07T01:06:30.171785700Z"
    }
   },
   "outputs": [],
   "source": [
    "def characteristic_equation(A : list[list[float]]):\n",
    "    \"\"\"\n",
    "    Función para calcular el polinomio característico de una matriz cuadrada A\n",
    "    A es una lista de listas que representa la matriz de entrada (sus elementos son números reales\n",
    "\n",
    "    Args:\n",
    "        A (list[list[float]]): Matriz cuadrada de entrada\n",
    "\n",
    "    Returns:\n",
    "        Polynomial: Polinomio característico de la matriz A\n",
    "    \"\"\"\n",
    "\n",
    "    n = len(A) # Dimensión de la matriz\n",
    "\n",
    "    # Convertimos la matriz A en una matriz de polinomios, donde cada elemento es un objeto Polynomial\n",
    "    A_poly = [[Polynomial([coefficient]) for coefficient in row] for row in A]\n",
    "\n",
    "    # Creamos el término identity_lambda (polinomio de la forma 0 - lambda, equivalente a [0, -1])\n",
    "    identity_lambda = Polynomial([0, -1])\n",
    "\n",
    "    # Añadimos el término 0 - lambda a cada elemento de la diagonal principal de la matriz A_poly\n",
    "    for i in range(n):\n",
    "        A_poly[i][i] = A_poly[i][i] + identity_lambda\n",
    "\n",
    "    # Calculamos el determinante de la matriz resultante (A - lambda I) para obtener el polinomio característico\n",
    "    return determinant(A_poly)"
   ]
  },
  {
   "cell_type": "code",
   "execution_count": 6,
   "metadata": {
    "id": "6Sv1uhUNESvR",
    "ExecuteTime": {
     "end_time": "2024-12-07T01:06:30.200456600Z",
     "start_time": "2024-12-07T01:06:30.188152Z"
    }
   },
   "outputs": [],
   "source": [
    "def eigenvalues_characteristic_polynomial_method(A : list[list[float]], show=False):\n",
    "    \"\"\"\n",
    "    Función para calcular los valores propios (eigenvalues) de una matriz cuadrada A\n",
    "    A es una lista de listas que representa la matriz de entrada (sus elementos son números reales)\n",
    "\n",
    "    Args:\n",
    "        A (list[list[float]]): Matriz cuadrada de entrada\n",
    "\n",
    "    Returns:\n",
    "        list[float]: Lista de valores propios (eigenvalues) de la matriz A\n",
    "    \"\"\"\n",
    "\n",
    "    n = len(A) # Dimensión de la matriz\n",
    "\n",
    "\n",
    "    # Calculamos el polinomio característico de la matriz A.\n",
    "    char_eq : Polynomial = characteristic_equation(A)\n",
    "    if show:\n",
    "        print(\"El polinomio caracteristico de la matriz es \", char_eq)\n",
    "\n",
    "    # Usamos np.roots para encontrar las raíces del polinomio característico\n",
    "    roots = np.roots(char_eq.coefficients[::-1]) # los coeficientes en Polynomial estan de menor a mayor\n",
    "\n",
    "    # Filtramos las raíces para quedarnos solo con las que son reales.\n",
    "    eigenvalues = sorted([r for r in roots if np.isclose(r.imag, 0)])\n",
    "\n",
    "    if show:\n",
    "        print(\"Los valores propios son \", *[round(x, 2) for x in eigenvalues])\n",
    "\n",
    "    if show:\n",
    "        print()\n",
    "\n",
    "    # Devolvemos los valores propios ordenados (solo los valores propios que son reales).\n",
    "    return eigenvalues"
   ]
  },
  {
   "cell_type": "code",
   "execution_count": 7,
   "metadata": {
    "id": "ot4xPm8lcRRZ",
    "ExecuteTime": {
     "end_time": "2024-12-07T01:06:30.223468700Z",
     "start_time": "2024-12-07T01:06:30.204462300Z"
    }
   },
   "outputs": [],
   "source": [
    "def eigenvector(A : list[list[float]], eigenvalue : float, show = False):\n",
    "    \"\"\"\n",
    "    Función para calcular un vector propio (eigenvector) asociado a un valor propio (eigenvalue) de una matriz cuadrada A.\n",
    "    A es una lista de listas que representa la matriz de entrada (sus elementos son números reales o flotantes)\n",
    "    eigenvalue es el valor propio para el cual se calcula el vector propio\n",
    "\n",
    "    Args:\n",
    "        A (list[list[float]]): Matriz cuadrada de entrada\n",
    "        eigenvalue (float): Valor propio para el cual se calcula el vector propio\n",
    "\n",
    "    Returns:\n",
    "        list[float]: Vector propio normalizado asociado al valor propio dado.\n",
    "    \"\"\"\n",
    "\n",
    "    n = len(A) # Dimensión de la matriz\n",
    "\n",
    "    # Creamos una matriz aumentada inicializada con ceros, de tamaño n x (n+1)\n",
    "    augmented_matrix = [[0 for j in range(n + 1)] for i in range(n)]\n",
    "\n",
    "    # Copiamos los elementos de la matriz A en la matriz aumentada\n",
    "    for i in range(n):\n",
    "        for j in range(n):\n",
    "            augmented_matrix[i][j] = A[i][j]\n",
    "\n",
    "    # Restamos el valor propio (eigenvalue) de los elementos de la diagonal principal\n",
    "    # Esto corresponde a calcular A - lambda I, donde lambda es el valor propio\n",
    "    for i in range(n):\n",
    "        augmented_matrix[i][i] -= eigenvalue\n",
    "\n",
    "    # Usamos eliminación gaussiana para resolver el sistema (A - lambda I)v = 0,\n",
    "    v = gauss_elimination(augmented_matrix)\n",
    "\n",
    "    # Normalizamos el vector propio para que tenga una norma unitaria.\n",
    "    v_norm = np.array(v) / np.linalg.norm(v)\n",
    "\n",
    "    if show:\n",
    "        print(\"Para la siguiente matriz\")\n",
    "        for row in A:\n",
    "            print(*row)\n",
    "\n",
    "        print(\"El vector propio asociado al valor propio\", np.round(eigenvalue, 2), \"es\", v_norm)\n",
    "        print()\n",
    "\n",
    "\n",
    "    # Retornamos el vector propio normalizado.\n",
    "    return v_norm"
   ]
  },
  {
   "cell_type": "markdown",
   "metadata": {
    "id": "fYDN0akL5hUk"
   },
   "source": [
    "# Method 2. The Power Method"
   ]
  },
  {
   "cell_type": "code",
   "execution_count": 1,
   "metadata": {
    "id": "ch655dRj7ikW",
    "ExecuteTime": {
     "end_time": "2024-12-07T01:57:32.232328900Z",
     "start_time": "2024-12-07T01:57:32.214329800Z"
    }
   },
   "outputs": [],
   "source": [
    "def eigenvalue_power_method(A, x, mx=1000, tol=1e-9):\n",
    "    \"\"\"\n",
    "    Computes the dominant eigenvalue and its corresponding eigenvector\n",
    "    of a square matrix `A` using the Power Method.\n",
    "\n",
    "    This method iteratively estimates the eigenvector associated with\n",
    "    the largest (dominant) eigenvalue in magnitude, and refines the\n",
    "    eigenvalue using the Rayleigh quotient.\n",
    "\n",
    "    Args:\n",
    "        A (numpy.ndarray): The square matrix for which the dominant eigenvalue\n",
    "            and eigenvector are computed.\n",
    "        x (numpy.ndarray): The initial guess for the eigenvector.\n",
    "        mx (int, optional): The maximum number of iterations to perform. Default is 1000.\n",
    "        tol (float, optional): The convergence tolerance. Iterations stop when the\n",
    "            change in the eigenvector is less than this threshold. Default is 1e-9.\n",
    "\n",
    "    Returns:\n",
    "        tuple: A tuple `(eigenvalue, eigenvector)` where:\n",
    "            - `eigenvalue` (float): The dominant eigenvalue of the matrix `A`.\n",
    "            - `eigenvector` (numpy.ndarray): The corresponding normalized eigenvector.\n",
    "    \"\"\"\n",
    "\n",
    "    x = x / np.linalg.norm(x) # Normalize\n",
    "    for i in range(mx):\n",
    "        Ax = np.dot(A, x) # Compute Ax\n",
    "        x_next = Ax / np.linalg.norm(Ax) # Normalize\n",
    "        eigenvalue = np.dot(x_next.T, np.dot(A, x_next)) # Use Rayleigh\n",
    "        if np.linalg.norm(x_next - x) < tol: # Check the tolerance\n",
    "            break\n",
    "        x = x_next # Assign the next x to continue the iterations\n",
    "\n",
    "    return eigenvalue, x_next, i"
   ]
  },
  {
   "cell_type": "markdown",
   "source": [
    "# Method 3. QR Decomposition Method"
   ],
   "metadata": {
    "id": "oWDR9-RnvKvy"
   }
  },
  {
   "cell_type": "code",
   "source": [
    "def eigenvalues_QR_algorithm(A : list[list[float]], mx=1000, tol=1e-6):\n",
    "    \"\"\"\n",
    "    Computes the eigenvalues of a square matrix `A` using the QR algorithm.\n",
    "\n",
    "    This function iteratively computes the QR decomposition of the matrix\n",
    "    and updates `A` to converge towards an upper triangular matrix.\n",
    "    The eigenvalues are extracted from the diagonal of the resulting matrix.\n",
    "\n",
    "    Args:\n",
    "        A (list[list[float]]): The input square matrix for which eigenvalues are computed.\n",
    "        mx (int, optional): The maximum number of iterations to perform. Default is 1000.\n",
    "        tol (float, optional): The convergence tolerance.\n",
    "\n",
    "    Returns:\n",
    "        list[float]: A sorted list of eigenvalues of the input matrix `A`.\n",
    "\n",
    "    \"\"\"\n",
    "    A0 = A\n",
    "    for i in range(mx):\n",
    "        Q, R = np.linalg.qr(A) # Q es ortonormal y R es triangular superior\n",
    "        A = np.dot(R, Q)\n",
    "\n",
    "        # El error es la norma residual\n",
    "        if np.linalg.norm(A - A0) < tol:\n",
    "            break\n",
    "\n",
    "        A0 = A\n",
    "\n",
    "    eigenvalues = np.diag(A)\n",
    "    return sorted(eigenvalues), i"
   ],
   "metadata": {
    "id": "wcKJXKROvMz1",
    "ExecuteTime": {
     "end_time": "2024-12-07T01:57:37.645726500Z",
     "start_time": "2024-12-07T01:57:37.600855900Z"
    }
   },
   "execution_count": 2,
   "outputs": []
  },
  {
   "cell_type": "code",
   "execution_count": null,
   "outputs": [],
   "source": [],
   "metadata": {
    "collapsed": false
   }
  }
 ],
 "metadata": {
  "colab": {
   "provenance": []
  },
  "kernelspec": {
   "name": "python3",
   "language": "python",
   "display_name": "Python 3 (ipykernel)"
  },
  "language_info": {
   "name": "python"
  }
 },
 "nbformat": 4,
 "nbformat_minor": 0
}
